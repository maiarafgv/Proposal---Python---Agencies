{
 "cells": [
  {
   "cell_type": "code",
   "execution_count": 3,
   "metadata": {},
   "outputs": [],
   "source": [
    "import pandas as pd\n",
    "import numpy as np"
   ]
  },
  {
   "cell_type": "code",
   "execution_count": 4,
   "metadata": {},
   "outputs": [],
   "source": [
    "data=pd.read_csv('DadosTelecom2019_novo.csv')"
   ]
  },
  {
   "cell_type": "code",
   "execution_count": 5,
   "metadata": {},
   "outputs": [
    {
     "data": {
      "text/html": [
       "<div>\n",
       "<style scoped>\n",
       "    .dataframe tbody tr th:only-of-type {\n",
       "        vertical-align: middle;\n",
       "    }\n",
       "\n",
       "    .dataframe tbody tr th {\n",
       "        vertical-align: top;\n",
       "    }\n",
       "\n",
       "    .dataframe thead th {\n",
       "        text-align: right;\n",
       "    }\n",
       "</style>\n",
       "<table border=\"1\" class=\"dataframe\">\n",
       "  <thead>\n",
       "    <tr style=\"text-align: right;\">\n",
       "      <th></th>\n",
       "      <th>Unnamed: 0</th>\n",
       "      <th>Região</th>\n",
       "      <th>UF</th>\n",
       "      <th>Cidade</th>\n",
       "      <th>Sexo</th>\n",
       "      <th>Faixa Etária</th>\n",
       "      <th>Data Finalização</th>\n",
       "      <th>Tempo Resposta</th>\n",
       "      <th>Nome Fantasia</th>\n",
       "      <th>Segmento de Mercado</th>\n",
       "      <th>...</th>\n",
       "      <th>Situação</th>\n",
       "      <th>Avaliação Reclamação</th>\n",
       "      <th>Nota do Consumidor</th>\n",
       "      <th>Total</th>\n",
       "      <th>ï»¿RegiÃ£o</th>\n",
       "      <th>Faixa EtÃ¡ria</th>\n",
       "      <th>Data FinalizaÃ§Ã£o</th>\n",
       "      <th>Ãrea</th>\n",
       "      <th>SituaÃ§Ã£o</th>\n",
       "      <th>AvaliaÃ§Ã£o ReclamaÃ§Ã£o</th>\n",
       "    </tr>\n",
       "  </thead>\n",
       "  <tbody>\n",
       "    <tr>\n",
       "      <th>0</th>\n",
       "      <td>0</td>\n",
       "      <td>SE</td>\n",
       "      <td>SP</td>\n",
       "      <td>São Paulo</td>\n",
       "      <td>M</td>\n",
       "      <td>entre 31 a 40 anos</td>\n",
       "      <td>31/01/2019</td>\n",
       "      <td>2.0</td>\n",
       "      <td>Samsung</td>\n",
       "      <td>Fabricantes - Eletroeletrônicos,  Produtos de ...</td>\n",
       "      <td>...</td>\n",
       "      <td>Finalizada avaliada</td>\n",
       "      <td>Não Resolvida</td>\n",
       "      <td>1.0</td>\n",
       "      <td>1</td>\n",
       "      <td>NaN</td>\n",
       "      <td>NaN</td>\n",
       "      <td>NaN</td>\n",
       "      <td>NaN</td>\n",
       "      <td>NaN</td>\n",
       "      <td>NaN</td>\n",
       "    </tr>\n",
       "    <tr>\n",
       "      <th>1</th>\n",
       "      <td>1</td>\n",
       "      <td>SE</td>\n",
       "      <td>SP</td>\n",
       "      <td>Pindamonhangaba</td>\n",
       "      <td>M</td>\n",
       "      <td>entre 51 a 60 anos</td>\n",
       "      <td>26/01/2019</td>\n",
       "      <td>1.0</td>\n",
       "      <td>NET</td>\n",
       "      <td>Operadoras de Telecomunicações (Telefonia, Int...</td>\n",
       "      <td>...</td>\n",
       "      <td>Finalizada avaliada</td>\n",
       "      <td>Resolvida</td>\n",
       "      <td>5.0</td>\n",
       "      <td>1</td>\n",
       "      <td>NaN</td>\n",
       "      <td>NaN</td>\n",
       "      <td>NaN</td>\n",
       "      <td>NaN</td>\n",
       "      <td>NaN</td>\n",
       "      <td>NaN</td>\n",
       "    </tr>\n",
       "    <tr>\n",
       "      <th>2</th>\n",
       "      <td>2</td>\n",
       "      <td>SE</td>\n",
       "      <td>SP</td>\n",
       "      <td>São Paulo</td>\n",
       "      <td>M</td>\n",
       "      <td>entre 31 a 40 anos</td>\n",
       "      <td>29/01/2019</td>\n",
       "      <td>5.0</td>\n",
       "      <td>Oi Celular</td>\n",
       "      <td>Operadoras de Telecomunicações (Telefonia, Int...</td>\n",
       "      <td>...</td>\n",
       "      <td>Finalizada avaliada</td>\n",
       "      <td>Resolvida</td>\n",
       "      <td>5.0</td>\n",
       "      <td>1</td>\n",
       "      <td>NaN</td>\n",
       "      <td>NaN</td>\n",
       "      <td>NaN</td>\n",
       "      <td>NaN</td>\n",
       "      <td>NaN</td>\n",
       "      <td>NaN</td>\n",
       "    </tr>\n",
       "    <tr>\n",
       "      <th>3</th>\n",
       "      <td>3</td>\n",
       "      <td>SE</td>\n",
       "      <td>RJ</td>\n",
       "      <td>Queimados</td>\n",
       "      <td>F</td>\n",
       "      <td>entre 31 a 40 anos</td>\n",
       "      <td>31/01/2019</td>\n",
       "      <td>4.0</td>\n",
       "      <td>Oi Fixo</td>\n",
       "      <td>Operadoras de Telecomunicações (Telefonia, Int...</td>\n",
       "      <td>...</td>\n",
       "      <td>Finalizada avaliada</td>\n",
       "      <td>Resolvida</td>\n",
       "      <td>5.0</td>\n",
       "      <td>1</td>\n",
       "      <td>NaN</td>\n",
       "      <td>NaN</td>\n",
       "      <td>NaN</td>\n",
       "      <td>NaN</td>\n",
       "      <td>NaN</td>\n",
       "      <td>NaN</td>\n",
       "    </tr>\n",
       "    <tr>\n",
       "      <th>4</th>\n",
       "      <td>4</td>\n",
       "      <td>NE</td>\n",
       "      <td>PI</td>\n",
       "      <td>Parnaíba</td>\n",
       "      <td>M</td>\n",
       "      <td>entre 21 a 30 anos</td>\n",
       "      <td>24/01/2019</td>\n",
       "      <td>2.0</td>\n",
       "      <td>Oi Fixo</td>\n",
       "      <td>Operadoras de Telecomunicações (Telefonia, Int...</td>\n",
       "      <td>...</td>\n",
       "      <td>Finalizada avaliada</td>\n",
       "      <td>Resolvida</td>\n",
       "      <td>5.0</td>\n",
       "      <td>1</td>\n",
       "      <td>NaN</td>\n",
       "      <td>NaN</td>\n",
       "      <td>NaN</td>\n",
       "      <td>NaN</td>\n",
       "      <td>NaN</td>\n",
       "      <td>NaN</td>\n",
       "    </tr>\n",
       "  </tbody>\n",
       "</table>\n",
       "<p>5 rows × 27 columns</p>\n",
       "</div>"
      ],
      "text/plain": [
       "   Unnamed: 0 Região  UF           Cidade Sexo        Faixa Etária  \\\n",
       "0           0     SE  SP        São Paulo    M  entre 31 a 40 anos   \n",
       "1           1     SE  SP  Pindamonhangaba    M  entre 51 a 60 anos   \n",
       "2           2     SE  SP        São Paulo    M  entre 31 a 40 anos   \n",
       "3           3     SE  RJ        Queimados    F  entre 31 a 40 anos   \n",
       "4           4     NE  PI         Parnaíba    M  entre 21 a 30 anos   \n",
       "\n",
       "  Data Finalização  Tempo Resposta Nome Fantasia  \\\n",
       "0       31/01/2019             2.0       Samsung   \n",
       "1       26/01/2019             1.0           NET   \n",
       "2       29/01/2019             5.0    Oi Celular   \n",
       "3       31/01/2019             4.0       Oi Fixo   \n",
       "4       24/01/2019             2.0       Oi Fixo   \n",
       "\n",
       "                                 Segmento de Mercado  ...  \\\n",
       "0  Fabricantes - Eletroeletrônicos,  Produtos de ...  ...   \n",
       "1  Operadoras de Telecomunicações (Telefonia, Int...  ...   \n",
       "2  Operadoras de Telecomunicações (Telefonia, Int...  ...   \n",
       "3  Operadoras de Telecomunicações (Telefonia, Int...  ...   \n",
       "4  Operadoras de Telecomunicações (Telefonia, Int...  ...   \n",
       "\n",
       "              Situação Avaliação Reclamação Nota do Consumidor Total  \\\n",
       "0  Finalizada avaliada        Não Resolvida                1.0     1   \n",
       "1  Finalizada avaliada            Resolvida                5.0     1   \n",
       "2  Finalizada avaliada            Resolvida                5.0     1   \n",
       "3  Finalizada avaliada            Resolvida                5.0     1   \n",
       "4  Finalizada avaliada            Resolvida                5.0     1   \n",
       "\n",
       "  ï»¿RegiÃ£o Faixa EtÃ¡ria Data FinalizaÃ§Ã£o Ãrea SituaÃ§Ã£o  \\\n",
       "0        NaN           NaN                NaN   NaN        NaN   \n",
       "1        NaN           NaN                NaN   NaN        NaN   \n",
       "2        NaN           NaN                NaN   NaN        NaN   \n",
       "3        NaN           NaN                NaN   NaN        NaN   \n",
       "4        NaN           NaN                NaN   NaN        NaN   \n",
       "\n",
       "   AvaliaÃ§Ã£o ReclamaÃ§Ã£o  \n",
       "0                       NaN  \n",
       "1                       NaN  \n",
       "2                       NaN  \n",
       "3                       NaN  \n",
       "4                       NaN  \n",
       "\n",
       "[5 rows x 27 columns]"
      ]
     },
     "execution_count": 5,
     "metadata": {},
     "output_type": "execute_result"
    }
   ],
   "source": [
    "data.head()"
   ]
  },
  {
   "cell_type": "code",
   "execution_count": 6,
   "metadata": {},
   "outputs": [
    {
     "data": {
      "text/plain": [
       "Index(['Unnamed: 0', 'Região', 'UF', 'Cidade', 'Sexo', 'Faixa Etária',\n",
       "       'Data Finalização', 'Tempo Resposta', 'Nome Fantasia',\n",
       "       'Segmento de Mercado', 'Área', 'Assunto', 'Grupo Problema', 'Problema',\n",
       "       'Como Comprou Contratou', 'Procurou Empresa', 'Respondida', 'Situação',\n",
       "       'Avaliação Reclamação', 'Nota do Consumidor', 'Total', 'ï»¿RegiÃ£o',\n",
       "       'Faixa EtÃ¡ria', 'Data FinalizaÃ§Ã£o', 'Ãrea', 'SituaÃ§Ã£o',\n",
       "       'AvaliaÃ§Ã£o ReclamaÃ§Ã£o'],\n",
       "      dtype='object')"
      ]
     },
     "execution_count": 6,
     "metadata": {},
     "output_type": "execute_result"
    }
   ],
   "source": [
    "data.columns"
   ]
  },
  {
   "cell_type": "code",
   "execution_count": 7,
   "metadata": {},
   "outputs": [],
   "source": [
    "data.columns= ['Unnamed: 0', 'Regiao', 'UF', 'Cidade', 'Sexo', 'Faixa Etaria',\n",
    "       'Data Finalizacao', 'Tempo Resposta', 'Nome Fantasia',\n",
    "       'Segmento de Mercado', 'Area', 'Assunto', 'Grupo Problema', 'Problema',\n",
    "       'Como Comprou Contratou', 'Procurou Empresa', 'Respondida', 'Situacao',\n",
    "       'Avaliacao Reclamacao', 'Nota do Consumidor', 'Total', 'Regiao',\n",
    "       'Faixa Etaria2', 'Data Finalizacao', 'Area', 'Situacao2',\n",
    "       'Avaliacao Reclamacao2']"
   ]
  },
  {
   "cell_type": "code",
   "execution_count": 8,
   "metadata": {},
   "outputs": [
    {
     "data": {
      "text/html": [
       "<div>\n",
       "<style scoped>\n",
       "    .dataframe tbody tr th:only-of-type {\n",
       "        vertical-align: middle;\n",
       "    }\n",
       "\n",
       "    .dataframe tbody tr th {\n",
       "        vertical-align: top;\n",
       "    }\n",
       "\n",
       "    .dataframe thead th {\n",
       "        text-align: right;\n",
       "    }\n",
       "</style>\n",
       "<table border=\"1\" class=\"dataframe\">\n",
       "  <thead>\n",
       "    <tr style=\"text-align: right;\">\n",
       "      <th></th>\n",
       "      <th>Unnamed: 0</th>\n",
       "      <th>Regiao</th>\n",
       "      <th>UF</th>\n",
       "      <th>Cidade</th>\n",
       "      <th>Sexo</th>\n",
       "      <th>Faixa Etaria</th>\n",
       "      <th>Data Finalizacao</th>\n",
       "      <th>Tempo Resposta</th>\n",
       "      <th>Nome Fantasia</th>\n",
       "      <th>Segmento de Mercado</th>\n",
       "      <th>...</th>\n",
       "      <th>Situacao</th>\n",
       "      <th>Avaliacao Reclamacao</th>\n",
       "      <th>Nota do Consumidor</th>\n",
       "      <th>Total</th>\n",
       "      <th>Regiao</th>\n",
       "      <th>Faixa Etaria2</th>\n",
       "      <th>Data Finalizacao</th>\n",
       "      <th>Area</th>\n",
       "      <th>Situacao2</th>\n",
       "      <th>Avaliacao Reclamacao2</th>\n",
       "    </tr>\n",
       "  </thead>\n",
       "  <tbody>\n",
       "    <tr>\n",
       "      <th>0</th>\n",
       "      <td>0</td>\n",
       "      <td>SE</td>\n",
       "      <td>SP</td>\n",
       "      <td>São Paulo</td>\n",
       "      <td>M</td>\n",
       "      <td>entre 31 a 40 anos</td>\n",
       "      <td>31/01/2019</td>\n",
       "      <td>2.0</td>\n",
       "      <td>Samsung</td>\n",
       "      <td>Fabricantes - Eletroeletrônicos,  Produtos de ...</td>\n",
       "      <td>...</td>\n",
       "      <td>Finalizada avaliada</td>\n",
       "      <td>Não Resolvida</td>\n",
       "      <td>1.0</td>\n",
       "      <td>1</td>\n",
       "      <td>NaN</td>\n",
       "      <td>NaN</td>\n",
       "      <td>NaN</td>\n",
       "      <td>NaN</td>\n",
       "      <td>NaN</td>\n",
       "      <td>NaN</td>\n",
       "    </tr>\n",
       "    <tr>\n",
       "      <th>1</th>\n",
       "      <td>1</td>\n",
       "      <td>SE</td>\n",
       "      <td>SP</td>\n",
       "      <td>Pindamonhangaba</td>\n",
       "      <td>M</td>\n",
       "      <td>entre 51 a 60 anos</td>\n",
       "      <td>26/01/2019</td>\n",
       "      <td>1.0</td>\n",
       "      <td>NET</td>\n",
       "      <td>Operadoras de Telecomunicações (Telefonia, Int...</td>\n",
       "      <td>...</td>\n",
       "      <td>Finalizada avaliada</td>\n",
       "      <td>Resolvida</td>\n",
       "      <td>5.0</td>\n",
       "      <td>1</td>\n",
       "      <td>NaN</td>\n",
       "      <td>NaN</td>\n",
       "      <td>NaN</td>\n",
       "      <td>NaN</td>\n",
       "      <td>NaN</td>\n",
       "      <td>NaN</td>\n",
       "    </tr>\n",
       "    <tr>\n",
       "      <th>2</th>\n",
       "      <td>2</td>\n",
       "      <td>SE</td>\n",
       "      <td>SP</td>\n",
       "      <td>São Paulo</td>\n",
       "      <td>M</td>\n",
       "      <td>entre 31 a 40 anos</td>\n",
       "      <td>29/01/2019</td>\n",
       "      <td>5.0</td>\n",
       "      <td>Oi Celular</td>\n",
       "      <td>Operadoras de Telecomunicações (Telefonia, Int...</td>\n",
       "      <td>...</td>\n",
       "      <td>Finalizada avaliada</td>\n",
       "      <td>Resolvida</td>\n",
       "      <td>5.0</td>\n",
       "      <td>1</td>\n",
       "      <td>NaN</td>\n",
       "      <td>NaN</td>\n",
       "      <td>NaN</td>\n",
       "      <td>NaN</td>\n",
       "      <td>NaN</td>\n",
       "      <td>NaN</td>\n",
       "    </tr>\n",
       "    <tr>\n",
       "      <th>3</th>\n",
       "      <td>3</td>\n",
       "      <td>SE</td>\n",
       "      <td>RJ</td>\n",
       "      <td>Queimados</td>\n",
       "      <td>F</td>\n",
       "      <td>entre 31 a 40 anos</td>\n",
       "      <td>31/01/2019</td>\n",
       "      <td>4.0</td>\n",
       "      <td>Oi Fixo</td>\n",
       "      <td>Operadoras de Telecomunicações (Telefonia, Int...</td>\n",
       "      <td>...</td>\n",
       "      <td>Finalizada avaliada</td>\n",
       "      <td>Resolvida</td>\n",
       "      <td>5.0</td>\n",
       "      <td>1</td>\n",
       "      <td>NaN</td>\n",
       "      <td>NaN</td>\n",
       "      <td>NaN</td>\n",
       "      <td>NaN</td>\n",
       "      <td>NaN</td>\n",
       "      <td>NaN</td>\n",
       "    </tr>\n",
       "    <tr>\n",
       "      <th>4</th>\n",
       "      <td>4</td>\n",
       "      <td>NE</td>\n",
       "      <td>PI</td>\n",
       "      <td>Parnaíba</td>\n",
       "      <td>M</td>\n",
       "      <td>entre 21 a 30 anos</td>\n",
       "      <td>24/01/2019</td>\n",
       "      <td>2.0</td>\n",
       "      <td>Oi Fixo</td>\n",
       "      <td>Operadoras de Telecomunicações (Telefonia, Int...</td>\n",
       "      <td>...</td>\n",
       "      <td>Finalizada avaliada</td>\n",
       "      <td>Resolvida</td>\n",
       "      <td>5.0</td>\n",
       "      <td>1</td>\n",
       "      <td>NaN</td>\n",
       "      <td>NaN</td>\n",
       "      <td>NaN</td>\n",
       "      <td>NaN</td>\n",
       "      <td>NaN</td>\n",
       "      <td>NaN</td>\n",
       "    </tr>\n",
       "  </tbody>\n",
       "</table>\n",
       "<p>5 rows × 27 columns</p>\n",
       "</div>"
      ],
      "text/plain": [
       "   Unnamed: 0 Regiao  UF           Cidade Sexo        Faixa Etaria  \\\n",
       "0           0     SE  SP        São Paulo    M  entre 31 a 40 anos   \n",
       "1           1     SE  SP  Pindamonhangaba    M  entre 51 a 60 anos   \n",
       "2           2     SE  SP        São Paulo    M  entre 31 a 40 anos   \n",
       "3           3     SE  RJ        Queimados    F  entre 31 a 40 anos   \n",
       "4           4     NE  PI         Parnaíba    M  entre 21 a 30 anos   \n",
       "\n",
       "  Data Finalizacao  Tempo Resposta Nome Fantasia  \\\n",
       "0       31/01/2019             2.0       Samsung   \n",
       "1       26/01/2019             1.0           NET   \n",
       "2       29/01/2019             5.0    Oi Celular   \n",
       "3       31/01/2019             4.0       Oi Fixo   \n",
       "4       24/01/2019             2.0       Oi Fixo   \n",
       "\n",
       "                                 Segmento de Mercado  ...  \\\n",
       "0  Fabricantes - Eletroeletrônicos,  Produtos de ...  ...   \n",
       "1  Operadoras de Telecomunicações (Telefonia, Int...  ...   \n",
       "2  Operadoras de Telecomunicações (Telefonia, Int...  ...   \n",
       "3  Operadoras de Telecomunicações (Telefonia, Int...  ...   \n",
       "4  Operadoras de Telecomunicações (Telefonia, Int...  ...   \n",
       "\n",
       "              Situacao Avaliacao Reclamacao Nota do Consumidor Total Regiao  \\\n",
       "0  Finalizada avaliada        Não Resolvida                1.0     1    NaN   \n",
       "1  Finalizada avaliada            Resolvida                5.0     1    NaN   \n",
       "2  Finalizada avaliada            Resolvida                5.0     1    NaN   \n",
       "3  Finalizada avaliada            Resolvida                5.0     1    NaN   \n",
       "4  Finalizada avaliada            Resolvida                5.0     1    NaN   \n",
       "\n",
       "  Faixa Etaria2 Data Finalizacao Area Situacao2  Avaliacao Reclamacao2  \n",
       "0           NaN              NaN  NaN       NaN                    NaN  \n",
       "1           NaN              NaN  NaN       NaN                    NaN  \n",
       "2           NaN              NaN  NaN       NaN                    NaN  \n",
       "3           NaN              NaN  NaN       NaN                    NaN  \n",
       "4           NaN              NaN  NaN       NaN                    NaN  \n",
       "\n",
       "[5 rows x 27 columns]"
      ]
     },
     "execution_count": 8,
     "metadata": {},
     "output_type": "execute_result"
    }
   ],
   "source": [
    "data.head()"
   ]
  },
  {
   "cell_type": "code",
   "execution_count": 9,
   "metadata": {},
   "outputs": [],
   "source": [
    "chosenColumns = ['Sexo', 'Faixa Etaria', 'Nome Fantasia','Tempo Resposta', 'Como Comprou Contratou','Procurou Empresa','Situacao','Nota do Consumidor','Avaliacao Reclamacao']"
   ]
  },
  {
   "cell_type": "code",
   "execution_count": 10,
   "metadata": {},
   "outputs": [],
   "source": [
    "df= data[chosenColumns]"
   ]
  },
  {
   "cell_type": "code",
   "execution_count": 11,
   "metadata": {},
   "outputs": [
    {
     "data": {
      "text/html": [
       "<div>\n",
       "<style scoped>\n",
       "    .dataframe tbody tr th:only-of-type {\n",
       "        vertical-align: middle;\n",
       "    }\n",
       "\n",
       "    .dataframe tbody tr th {\n",
       "        vertical-align: top;\n",
       "    }\n",
       "\n",
       "    .dataframe thead th {\n",
       "        text-align: right;\n",
       "    }\n",
       "</style>\n",
       "<table border=\"1\" class=\"dataframe\">\n",
       "  <thead>\n",
       "    <tr style=\"text-align: right;\">\n",
       "      <th></th>\n",
       "      <th>Sexo</th>\n",
       "      <th>Faixa Etaria</th>\n",
       "      <th>Nome Fantasia</th>\n",
       "      <th>Tempo Resposta</th>\n",
       "      <th>Como Comprou Contratou</th>\n",
       "      <th>Procurou Empresa</th>\n",
       "      <th>Situacao</th>\n",
       "      <th>Nota do Consumidor</th>\n",
       "      <th>Avaliacao Reclamacao</th>\n",
       "    </tr>\n",
       "  </thead>\n",
       "  <tbody>\n",
       "    <tr>\n",
       "      <th>0</th>\n",
       "      <td>M</td>\n",
       "      <td>entre 31 a 40 anos</td>\n",
       "      <td>Samsung</td>\n",
       "      <td>2.0</td>\n",
       "      <td>Internet</td>\n",
       "      <td>N</td>\n",
       "      <td>Finalizada avaliada</td>\n",
       "      <td>1.0</td>\n",
       "      <td>Não Resolvida</td>\n",
       "    </tr>\n",
       "    <tr>\n",
       "      <th>1</th>\n",
       "      <td>M</td>\n",
       "      <td>entre 51 a 60 anos</td>\n",
       "      <td>NET</td>\n",
       "      <td>1.0</td>\n",
       "      <td>Internet</td>\n",
       "      <td>S</td>\n",
       "      <td>Finalizada avaliada</td>\n",
       "      <td>5.0</td>\n",
       "      <td>Resolvida</td>\n",
       "    </tr>\n",
       "    <tr>\n",
       "      <th>2</th>\n",
       "      <td>M</td>\n",
       "      <td>entre 31 a 40 anos</td>\n",
       "      <td>Oi Celular</td>\n",
       "      <td>5.0</td>\n",
       "      <td>Telefone</td>\n",
       "      <td>S</td>\n",
       "      <td>Finalizada avaliada</td>\n",
       "      <td>5.0</td>\n",
       "      <td>Resolvida</td>\n",
       "    </tr>\n",
       "    <tr>\n",
       "      <th>3</th>\n",
       "      <td>F</td>\n",
       "      <td>entre 31 a 40 anos</td>\n",
       "      <td>Oi Fixo</td>\n",
       "      <td>4.0</td>\n",
       "      <td>Loja física</td>\n",
       "      <td>N</td>\n",
       "      <td>Finalizada avaliada</td>\n",
       "      <td>5.0</td>\n",
       "      <td>Resolvida</td>\n",
       "    </tr>\n",
       "    <tr>\n",
       "      <th>4</th>\n",
       "      <td>M</td>\n",
       "      <td>entre 21 a 30 anos</td>\n",
       "      <td>Oi Fixo</td>\n",
       "      <td>2.0</td>\n",
       "      <td>Domicílio</td>\n",
       "      <td>N</td>\n",
       "      <td>Finalizada avaliada</td>\n",
       "      <td>5.0</td>\n",
       "      <td>Resolvida</td>\n",
       "    </tr>\n",
       "  </tbody>\n",
       "</table>\n",
       "</div>"
      ],
      "text/plain": [
       "  Sexo        Faixa Etaria Nome Fantasia  Tempo Resposta  \\\n",
       "0    M  entre 31 a 40 anos       Samsung             2.0   \n",
       "1    M  entre 51 a 60 anos           NET             1.0   \n",
       "2    M  entre 31 a 40 anos    Oi Celular             5.0   \n",
       "3    F  entre 31 a 40 anos       Oi Fixo             4.0   \n",
       "4    M  entre 21 a 30 anos       Oi Fixo             2.0   \n",
       "\n",
       "  Como Comprou Contratou Procurou Empresa             Situacao  \\\n",
       "0               Internet                N  Finalizada avaliada   \n",
       "1               Internet                S  Finalizada avaliada   \n",
       "2               Telefone                S  Finalizada avaliada   \n",
       "3            Loja física                N  Finalizada avaliada   \n",
       "4              Domicílio                N  Finalizada avaliada   \n",
       "\n",
       "   Nota do Consumidor Avaliacao Reclamacao  \n",
       "0                 1.0        Não Resolvida  \n",
       "1                 5.0            Resolvida  \n",
       "2                 5.0            Resolvida  \n",
       "3                 5.0            Resolvida  \n",
       "4                 5.0            Resolvida  "
      ]
     },
     "execution_count": 11,
     "metadata": {},
     "output_type": "execute_result"
    }
   ],
   "source": [
    "df.head()"
   ]
  },
  {
   "cell_type": "code",
   "execution_count": 12,
   "metadata": {},
   "outputs": [
    {
     "data": {
      "text/plain": [
       "(182877, 9)"
      ]
     },
     "execution_count": 12,
     "metadata": {},
     "output_type": "execute_result"
    }
   ],
   "source": [
    "df.shape"
   ]
  },
  {
   "cell_type": "markdown",
   "metadata": {},
   "source": [
    "Dataset possui 182.877 reclamações e 9 colunas"
   ]
  },
  {
   "cell_type": "markdown",
   "metadata": {},
   "source": [
    "Variáveis que contém valores nulos"
   ]
  },
  {
   "cell_type": "code",
   "execution_count": 13,
   "metadata": {},
   "outputs": [],
   "source": [
    "cols_na = [var for var in df.columns if df[var].isnull().sum()>0]"
   ]
  },
  {
   "cell_type": "code",
   "execution_count": 14,
   "metadata": {},
   "outputs": [
    {
     "data": {
      "text/plain": [
       "['Tempo Resposta', 'Nota do Consumidor']"
      ]
     },
     "execution_count": 14,
     "metadata": {},
     "output_type": "execute_result"
    }
   ],
   "source": [
    "cols_na"
   ]
  },
  {
   "cell_type": "code",
   "execution_count": 15,
   "metadata": {},
   "outputs": [
    {
     "data": {
      "text/html": [
       "<div>\n",
       "<style scoped>\n",
       "    .dataframe tbody tr th:only-of-type {\n",
       "        vertical-align: middle;\n",
       "    }\n",
       "\n",
       "    .dataframe tbody tr th {\n",
       "        vertical-align: top;\n",
       "    }\n",
       "\n",
       "    .dataframe thead th {\n",
       "        text-align: right;\n",
       "    }\n",
       "</style>\n",
       "<table border=\"1\" class=\"dataframe\">\n",
       "  <thead>\n",
       "    <tr style=\"text-align: right;\">\n",
       "      <th></th>\n",
       "      <th>Sexo</th>\n",
       "      <th>Faixa Etaria</th>\n",
       "      <th>Nome Fantasia</th>\n",
       "      <th>Tempo Resposta</th>\n",
       "      <th>Como Comprou Contratou</th>\n",
       "      <th>Procurou Empresa</th>\n",
       "      <th>Situacao</th>\n",
       "      <th>Nota do Consumidor</th>\n",
       "      <th>Avaliacao Reclamacao</th>\n",
       "    </tr>\n",
       "  </thead>\n",
       "  <tbody>\n",
       "    <tr>\n",
       "      <th>27548</th>\n",
       "      <td>F</td>\n",
       "      <td>entre 31 a 40 anos</td>\n",
       "      <td>Tim</td>\n",
       "      <td>10.0</td>\n",
       "      <td>Loja física</td>\n",
       "      <td>N</td>\n",
       "      <td>Finalizada não avaliada</td>\n",
       "      <td>NaN</td>\n",
       "      <td>Não Avaliada</td>\n",
       "    </tr>\n",
       "    <tr>\n",
       "      <th>27667</th>\n",
       "      <td>M</td>\n",
       "      <td>entre 31 a 40 anos</td>\n",
       "      <td>Oi Fixo</td>\n",
       "      <td>6.0</td>\n",
       "      <td>Telefone</td>\n",
       "      <td>N</td>\n",
       "      <td>Finalizada não avaliada</td>\n",
       "      <td>NaN</td>\n",
       "      <td>Não Avaliada</td>\n",
       "    </tr>\n",
       "    <tr>\n",
       "      <th>27729</th>\n",
       "      <td>M</td>\n",
       "      <td>entre 31 a 40 anos</td>\n",
       "      <td>Tim</td>\n",
       "      <td>10.0</td>\n",
       "      <td>Telefone</td>\n",
       "      <td>S</td>\n",
       "      <td>Finalizada não avaliada</td>\n",
       "      <td>NaN</td>\n",
       "      <td>Não Avaliada</td>\n",
       "    </tr>\n",
       "    <tr>\n",
       "      <th>27731</th>\n",
       "      <td>M</td>\n",
       "      <td>entre 61 a 70 anos</td>\n",
       "      <td>Claro Celular</td>\n",
       "      <td>10.0</td>\n",
       "      <td>Loja física</td>\n",
       "      <td>S</td>\n",
       "      <td>Finalizada não avaliada</td>\n",
       "      <td>NaN</td>\n",
       "      <td>Não Avaliada</td>\n",
       "    </tr>\n",
       "    <tr>\n",
       "      <th>27732</th>\n",
       "      <td>F</td>\n",
       "      <td>entre 31 a 40 anos</td>\n",
       "      <td>Casas Bahia</td>\n",
       "      <td>10.0</td>\n",
       "      <td>Loja física</td>\n",
       "      <td>S</td>\n",
       "      <td>Finalizada não avaliada</td>\n",
       "      <td>NaN</td>\n",
       "      <td>Não Avaliada</td>\n",
       "    </tr>\n",
       "    <tr>\n",
       "      <th>...</th>\n",
       "      <td>...</td>\n",
       "      <td>...</td>\n",
       "      <td>...</td>\n",
       "      <td>...</td>\n",
       "      <td>...</td>\n",
       "      <td>...</td>\n",
       "      <td>...</td>\n",
       "      <td>...</td>\n",
       "      <td>...</td>\n",
       "    </tr>\n",
       "    <tr>\n",
       "      <th>182533</th>\n",
       "      <td>M</td>\n",
       "      <td>entre 31 a 40 anos</td>\n",
       "      <td>Tim</td>\n",
       "      <td>8.0</td>\n",
       "      <td>Internet</td>\n",
       "      <td>S</td>\n",
       "      <td>Finalizada não avaliada</td>\n",
       "      <td>NaN</td>\n",
       "      <td>Não Avaliada</td>\n",
       "    </tr>\n",
       "    <tr>\n",
       "      <th>182595</th>\n",
       "      <td>F</td>\n",
       "      <td>entre 41 a 50 anos</td>\n",
       "      <td>Claro Celular</td>\n",
       "      <td>9.0</td>\n",
       "      <td>Loja física</td>\n",
       "      <td>S</td>\n",
       "      <td>Finalizada não avaliada</td>\n",
       "      <td>NaN</td>\n",
       "      <td>Não Avaliada</td>\n",
       "    </tr>\n",
       "    <tr>\n",
       "      <th>182681</th>\n",
       "      <td>F</td>\n",
       "      <td>entre 21 a 30 anos</td>\n",
       "      <td>Tim</td>\n",
       "      <td>8.0</td>\n",
       "      <td>Não comprei / contratei</td>\n",
       "      <td>S</td>\n",
       "      <td>Finalizada não avaliada</td>\n",
       "      <td>NaN</td>\n",
       "      <td>Não Avaliada</td>\n",
       "    </tr>\n",
       "    <tr>\n",
       "      <th>182816</th>\n",
       "      <td>M</td>\n",
       "      <td>entre 31 a 40 anos</td>\n",
       "      <td>Claro Celular</td>\n",
       "      <td>8.0</td>\n",
       "      <td>Loja física</td>\n",
       "      <td>S</td>\n",
       "      <td>Finalizada não avaliada</td>\n",
       "      <td>NaN</td>\n",
       "      <td>Não Avaliada</td>\n",
       "    </tr>\n",
       "    <tr>\n",
       "      <th>182876</th>\n",
       "      <td>F</td>\n",
       "      <td>entre 21 a 30 anos</td>\n",
       "      <td>Tim</td>\n",
       "      <td>2.0</td>\n",
       "      <td>Loja física</td>\n",
       "      <td>N</td>\n",
       "      <td>Finalizada não avaliada</td>\n",
       "      <td>NaN</td>\n",
       "      <td>Não Avaliada</td>\n",
       "    </tr>\n",
       "  </tbody>\n",
       "</table>\n",
       "<p>56576 rows × 9 columns</p>\n",
       "</div>"
      ],
      "text/plain": [
       "       Sexo        Faixa Etaria  Nome Fantasia  Tempo Resposta  \\\n",
       "27548     F  entre 31 a 40 anos            Tim            10.0   \n",
       "27667     M  entre 31 a 40 anos        Oi Fixo             6.0   \n",
       "27729     M  entre 31 a 40 anos            Tim            10.0   \n",
       "27731     M  entre 61 a 70 anos  Claro Celular            10.0   \n",
       "27732     F  entre 31 a 40 anos    Casas Bahia            10.0   \n",
       "...     ...                 ...            ...             ...   \n",
       "182533    M  entre 31 a 40 anos            Tim             8.0   \n",
       "182595    F  entre 41 a 50 anos  Claro Celular             9.0   \n",
       "182681    F  entre 21 a 30 anos            Tim             8.0   \n",
       "182816    M  entre 31 a 40 anos  Claro Celular             8.0   \n",
       "182876    F  entre 21 a 30 anos            Tim             2.0   \n",
       "\n",
       "         Como Comprou Contratou Procurou Empresa                 Situacao  \\\n",
       "27548               Loja física                N  Finalizada não avaliada   \n",
       "27667                  Telefone                N  Finalizada não avaliada   \n",
       "27729                  Telefone                S  Finalizada não avaliada   \n",
       "27731               Loja física                S  Finalizada não avaliada   \n",
       "27732               Loja física                S  Finalizada não avaliada   \n",
       "...                         ...              ...                      ...   \n",
       "182533                 Internet                S  Finalizada não avaliada   \n",
       "182595              Loja física                S  Finalizada não avaliada   \n",
       "182681  Não comprei / contratei                S  Finalizada não avaliada   \n",
       "182816              Loja física                S  Finalizada não avaliada   \n",
       "182876              Loja física                N  Finalizada não avaliada   \n",
       "\n",
       "        Nota do Consumidor Avaliacao Reclamacao  \n",
       "27548                  NaN         Não Avaliada  \n",
       "27667                  NaN         Não Avaliada  \n",
       "27729                  NaN         Não Avaliada  \n",
       "27731                  NaN         Não Avaliada  \n",
       "27732                  NaN         Não Avaliada  \n",
       "...                    ...                  ...  \n",
       "182533                 NaN         Não Avaliada  \n",
       "182595                 NaN         Não Avaliada  \n",
       "182681                 NaN         Não Avaliada  \n",
       "182816                 NaN         Não Avaliada  \n",
       "182876                 NaN         Não Avaliada  \n",
       "\n",
       "[56576 rows x 9 columns]"
      ]
     },
     "execution_count": 15,
     "metadata": {},
     "output_type": "execute_result"
    }
   ],
   "source": [
    "df[df['Nota do Consumidor'].isnull()]"
   ]
  },
  {
   "cell_type": "code",
   "execution_count": 16,
   "metadata": {},
   "outputs": [
    {
     "data": {
      "text/plain": [
       "(126115, 9)"
      ]
     },
     "execution_count": 16,
     "metadata": {},
     "output_type": "execute_result"
    }
   ],
   "source": [
    "df.dropna().shape"
   ]
  },
  {
   "cell_type": "code",
   "execution_count": 17,
   "metadata": {},
   "outputs": [
    {
     "name": "stderr",
     "output_type": "stream",
     "text": [
      "C:\\ProgramData\\Anaconda3\\lib\\site-packages\\ipykernel_launcher.py:1: SettingWithCopyWarning: \n",
      "A value is trying to be set on a copy of a slice from a DataFrame\n",
      "\n",
      "See the caveats in the documentation: https://pandas.pydata.org/pandas-docs/stable/user_guide/indexing.html#returning-a-view-versus-a-copy\n",
      "  \"\"\"Entry point for launching an IPython kernel.\n"
     ]
    }
   ],
   "source": [
    "df.dropna(inplace=True)"
   ]
  },
  {
   "cell_type": "code",
   "execution_count": 18,
   "metadata": {},
   "outputs": [
    {
     "data": {
      "text/plain": [
       "0.0"
      ]
     },
     "execution_count": 18,
     "metadata": {},
     "output_type": "execute_result"
    }
   ],
   "source": [
    "df['Tempo Resposta'].min()"
   ]
  },
  {
   "cell_type": "code",
   "execution_count": 19,
   "metadata": {},
   "outputs": [
    {
     "data": {
      "text/plain": [
       "15.0"
      ]
     },
     "execution_count": 19,
     "metadata": {},
     "output_type": "execute_result"
    }
   ],
   "source": [
    "df['Tempo Resposta'].max()"
   ]
  },
  {
   "cell_type": "code",
   "execution_count": 20,
   "metadata": {},
   "outputs": [
    {
     "data": {
      "text/plain": [
       "10.0    28688\n",
       "9.0     21023\n",
       "8.0     20439\n",
       "7.0     14430\n",
       "6.0      9392\n",
       "5.0      7110\n",
       "4.0      5727\n",
       "3.0      5629\n",
       "2.0      5170\n",
       "1.0      4655\n",
       "0.0      2043\n",
       "15.0      681\n",
       "11.0      390\n",
       "14.0      303\n",
       "13.0      221\n",
       "12.0      214\n",
       "Name: Tempo Resposta, dtype: int64"
      ]
     },
     "execution_count": 20,
     "metadata": {},
     "output_type": "execute_result"
    }
   ],
   "source": [
    "df['Tempo Resposta'].value_counts()"
   ]
  },
  {
   "cell_type": "code",
   "execution_count": null,
   "metadata": {},
   "outputs": [],
   "source": []
  },
  {
   "cell_type": "code",
   "execution_count": null,
   "metadata": {},
   "outputs": [],
   "source": []
  },
  {
   "cell_type": "code",
   "execution_count": null,
   "metadata": {},
   "outputs": [],
   "source": []
  },
  {
   "cell_type": "code",
   "execution_count": null,
   "metadata": {},
   "outputs": [],
   "source": []
  },
  {
   "cell_type": "code",
   "execution_count": 61,
   "metadata": {},
   "outputs": [],
   "source": [
    "df_partial = pd.get_dummies(df, columns=['Sexo', 'Faixa Etaria', 'Nome Fantasia', 'Tempo Resposta',\n",
    "       'Como Comprou Contratou', 'Procurou Empresa', 'Situacao', 'Avaliacao Reclamacao'],drop_first=True)"
   ]
  },
  {
   "cell_type": "code",
   "execution_count": 62,
   "metadata": {},
   "outputs": [
    {
     "data": {
      "text/plain": [
       "(126115, 123)"
      ]
     },
     "execution_count": 62,
     "metadata": {},
     "output_type": "execute_result"
    }
   ],
   "source": [
    "df_partial.shape"
   ]
  },
  {
   "cell_type": "markdown",
   "metadata": {},
   "source": [
    "### Inclui essa parte"
   ]
  },
  {
   "cell_type": "code",
   "execution_count": 22,
   "metadata": {},
   "outputs": [],
   "source": [
    "from sklearn.model_selection import train_test_split"
   ]
  },
  {
   "cell_type": "code",
   "execution_count": 23,
   "metadata": {},
   "outputs": [
    {
     "data": {
      "text/plain": [
       "((100892, 122), (25223, 122))"
      ]
     },
     "execution_count": 23,
     "metadata": {},
     "output_type": "execute_result"
    }
   ],
   "source": [
    "X = df_partial.drop('Nota do Consumidor', axis=1) # Selects the features\n",
    "y = df_partial['Nota do Consumidor'] # Selects the variable we want to predict\n",
    "\n",
    "X_train, X_test, y_train, y_test = train_test_split(X, y, test_size=0.2,random_state=0)  \n",
    "\n",
    "X_train.shape, X_test.shape\n"
   ]
  },
  {
   "cell_type": "code",
   "execution_count": null,
   "metadata": {},
   "outputs": [],
   "source": []
  },
  {
   "cell_type": "markdown",
   "metadata": {},
   "source": [
    "## Modelando com árvores de decisão"
   ]
  },
  {
   "cell_type": "code",
   "execution_count": 24,
   "metadata": {},
   "outputs": [],
   "source": [
    "# Importa o modelo de árvore do scikit learn\n",
    "from sklearn.tree import DecisionTreeClassifier"
   ]
  },
  {
   "cell_type": "code",
   "execution_count": 25,
   "metadata": {},
   "outputs": [],
   "source": [
    "# Cria um exemplo do objeto DecisionTreeClassifier()\n",
    "dt = DecisionTreeClassifier(random_state=0)"
   ]
  },
  {
   "cell_type": "code",
   "execution_count": 26,
   "metadata": {},
   "outputs": [
    {
     "data": {
      "text/plain": [
       "DecisionTreeClassifier(ccp_alpha=0.0, class_weight=None, criterion='gini',\n",
       "                       max_depth=None, max_features=None, max_leaf_nodes=None,\n",
       "                       min_impurity_decrease=0.0, min_impurity_split=None,\n",
       "                       min_samples_leaf=1, min_samples_split=2,\n",
       "                       min_weight_fraction_leaf=0.0, presort='deprecated',\n",
       "                       random_state=0, splitter='best')"
      ]
     },
     "execution_count": 26,
     "metadata": {},
     "output_type": "execute_result"
    }
   ],
   "source": [
    "# Treina o modelo\n",
    "dt.fit(X_train, y_train)"
   ]
  },
  {
   "cell_type": "code",
   "execution_count": 27,
   "metadata": {},
   "outputs": [],
   "source": [
    "prev = dt.predict(X_test)"
   ]
  },
  {
   "cell_type": "code",
   "execution_count": null,
   "metadata": {},
   "outputs": [],
   "source": []
  },
  {
   "cell_type": "markdown",
   "metadata": {},
   "source": [
    "Métricas"
   ]
  },
  {
   "cell_type": "code",
   "execution_count": 28,
   "metadata": {},
   "outputs": [],
   "source": [
    "from sklearn.metrics import classification_report, confusion_matrix, accuracy_score, precision_score, recall_score, f1_score, roc_curve, auc, multilabel_confusion_matrix"
   ]
  },
  {
   "cell_type": "code",
   "execution_count": 29,
   "metadata": {},
   "outputs": [
    {
     "name": "stdout",
     "output_type": "stream",
     "text": [
      "              precision    recall  f1-score   support\n",
      "\n",
      "         0.0       1.00      1.00      1.00      2052\n",
      "         1.0       0.76      0.79      0.77      4045\n",
      "         2.0       0.06      0.01      0.02       856\n",
      "         3.0       0.12      0.03      0.05      2364\n",
      "         4.0       0.19      0.06      0.09      3343\n",
      "         5.0       0.66      0.90      0.76     12563\n",
      "\n",
      "    accuracy                           0.67     25223\n",
      "   macro avg       0.46      0.46      0.45     25223\n",
      "weighted avg       0.57      0.67      0.60     25223\n",
      "\n"
     ]
    }
   ],
   "source": [
    "print(classification_report(y_test, prev))"
   ]
  },
  {
   "cell_type": "code",
   "execution_count": 30,
   "metadata": {
    "scrolled": true
   },
   "outputs": [
    {
     "name": "stdout",
     "output_type": "stream",
     "text": [
      "              precision    recall  f1-score   support\n",
      "\n",
      "         0.0       1.00      1.00      1.00      2052\n",
      "         1.0       0.76      0.79      0.77      4045\n",
      "         2.0       0.06      0.01      0.02       856\n",
      "         3.0       0.12      0.03      0.05      2364\n",
      "         4.0       0.19      0.06      0.09      3343\n",
      "         5.0       0.66      0.90      0.76     12563\n",
      "\n",
      "    accuracy                           0.67     25223\n",
      "   macro avg       0.46      0.46      0.45     25223\n",
      "weighted avg       0.57      0.67      0.60     25223\n",
      "\n"
     ]
    }
   ],
   "source": [
    "print(classification_report(y_test, prev))"
   ]
  },
  {
   "cell_type": "code",
   "execution_count": 31,
   "metadata": {},
   "outputs": [
    {
     "name": "stdout",
     "output_type": "stream",
     "text": [
      "[[ 2052     0     0     0     0     0]\n",
      " [    0  3180    69    88    69   639]\n",
      " [    0   298    12    29    34   483]\n",
      " [    0   303    25    72   107  1857]\n",
      " [    0   134    25   116   184  2884]\n",
      " [    0   279    79   311   575 11319]]\n"
     ]
    }
   ],
   "source": [
    "print(confusion_matrix(y_test, prev))"
   ]
  },
  {
   "cell_type": "code",
   "execution_count": 32,
   "metadata": {},
   "outputs": [
    {
     "name": "stdout",
     "output_type": "stream",
     "text": [
      "Accuracy:  66.68%\n"
     ]
    }
   ],
   "source": [
    "print(\"Accuracy: {0: .2f}%\".format(100*accuracy_score(prev, y_test)))"
   ]
  },
  {
   "cell_type": "markdown",
   "metadata": {},
   "source": [
    "## Otimização com grid search"
   ]
  },
  {
   "cell_type": "code",
   "execution_count": 33,
   "metadata": {},
   "outputs": [],
   "source": [
    "#Grid Search\n",
    "from sklearn.model_selection import GridSearchCV"
   ]
  },
  {
   "cell_type": "markdown",
   "metadata": {},
   "source": [
    "**Observação:** Em precision, recall e f1 score temos que incluir o argumento average=None porque estamos lidando com multiclassificação."
   ]
  },
  {
   "cell_type": "markdown",
   "metadata": {},
   "source": [
    "https://stackoverflow.com/questions/45890328/sklearn-metrics-for-multiclass-classification"
   ]
  },
  {
   "cell_type": "markdown",
   "metadata": {},
   "source": [
    "https://towardsdatascience.com/multi-class-metrics-made-simple-part-i-precision-and-recall-9250280bddc2"
   ]
  },
  {
   "cell_type": "code",
   "execution_count": 34,
   "metadata": {},
   "outputs": [
    {
     "name": "stdout",
     "output_type": "stream",
     "text": [
      "criterion entropy\n",
      "max_features None\n",
      "max_depth 10\n",
      "Accuracy Score : 0.7023351702810926\n",
      "Precision Score : [1.         0.78394916 0.         0.08333333 0.13793103 0.65434852]\n",
      "Recall Score : [1.         0.82348578 0.         0.00169205 0.00119653 0.98097588]\n",
      "F1 Score : [1.         0.80323125 0.         0.00331675 0.00237248 0.78504316]\n"
     ]
    },
    {
     "data": {
      "text/plain": [
       "array([[ 2052,     0,     0,     0,     0,     0],\n",
       "       [    0,  3331,   312,   298,   110,   198],\n",
       "       [    0,     7,     0,     0,     1,     3],\n",
       "       [    0,    10,     6,     4,     9,    19],\n",
       "       [    0,     1,     2,     3,     4,    19],\n",
       "       [    0,   696,   536,  2059,  3219, 12324]], dtype=int64)"
      ]
     },
     "execution_count": 34,
     "metadata": {},
     "output_type": "execute_result"
    }
   ],
   "source": [
    "clf_dt = DecisionTreeClassifier(random_state=0)\n",
    "grid_values_dt = {\"criterion\": [\"gini\", \"entropy\"], \"max_features\": [None, \"sqrt\", \"log2\"], \"max_depth\": [10, 30, 50, 100, 150]}\n",
    "grid_clf_acc_dt = GridSearchCV(clf_dt, param_grid = grid_values_dt,scoring = 'accuracy')\n",
    "grid_clf_acc_dt.fit(X_train, y_train)\n",
    "\n",
    "#Predict values based on new parameters\n",
    "y_pred_acc_dt = grid_clf_acc_dt.predict(X_test)\n",
    "\n",
    "best_criterion_value = grid_clf_acc_dt.best_params_['criterion']\n",
    "best_max_features_value = grid_clf_acc_dt.best_params_['max_features']\n",
    "best_max_depth_value = grid_clf_acc_dt.best_params_['max_depth']\n",
    "best_score = grid_clf_acc_dt.best_score_\n",
    "\n",
    "# print best parameters\n",
    "print(\"criterion\", best_criterion_value)\n",
    "print(\"max_features\", best_max_features_value)\n",
    "print(\"max_depth\", best_max_depth_value)\n",
    "\n",
    "\n",
    "# New Model Evaluation metrics \n",
    "print('Accuracy Score : ' + str(accuracy_score(y_test,y_pred_acc_dt)))\n",
    "print('Precision Score : ' + str(precision_score(y_test,y_pred_acc_dt, average=None)))\n",
    "print('Recall Score : ' + str(recall_score(y_test,y_pred_acc_dt, average=None)))\n",
    "print('F1 Score : ' + str(f1_score(y_test,y_pred_acc_dt, average=None)))\n",
    "\n",
    "#Logistic Regression (Grid Search) Confusion matrix\n",
    "confusion_matrix(y_pred_acc_dt,y_test)"
   ]
  },
  {
   "cell_type": "markdown",
   "metadata": {},
   "source": [
    "### Melhores parâmetros para as árvores de decisão"
   ]
  },
  {
   "cell_type": "code",
   "execution_count": 35,
   "metadata": {},
   "outputs": [],
   "source": [
    "#Best hyper parameter \n",
    "clf_dt = DecisionTreeClassifier(criterion=best_criterion_value, max_features=best_max_features_value, max_depth=best_max_depth_value)\n",
    "clf_dt.fit(X_train, y_train)\n",
    "y_pred_DT = clf_dt.predict(X_test)"
   ]
  },
  {
   "cell_type": "code",
   "execution_count": null,
   "metadata": {},
   "outputs": [],
   "source": []
  },
  {
   "cell_type": "code",
   "execution_count": null,
   "metadata": {},
   "outputs": [],
   "source": []
  },
  {
   "cell_type": "code",
   "execution_count": 36,
   "metadata": {},
   "outputs": [],
   "source": [
    "dt_feat_importances = pd.DataFrame(clf_dt.feature_importances_, index = X_train.columns, columns=[\"Importances\"]).sort_values(\n",
    "                        \"Importances\", ascending=False)"
   ]
  },
  {
   "cell_type": "code",
   "execution_count": 37,
   "metadata": {},
   "outputs": [
    {
     "data": {
      "text/html": [
       "<div>\n",
       "<style scoped>\n",
       "    .dataframe tbody tr th:only-of-type {\n",
       "        vertical-align: middle;\n",
       "    }\n",
       "\n",
       "    .dataframe tbody tr th {\n",
       "        vertical-align: top;\n",
       "    }\n",
       "\n",
       "    .dataframe thead th {\n",
       "        text-align: right;\n",
       "    }\n",
       "</style>\n",
       "<table border=\"1\" class=\"dataframe\">\n",
       "  <thead>\n",
       "    <tr style=\"text-align: right;\">\n",
       "      <th></th>\n",
       "      <th>Importances</th>\n",
       "    </tr>\n",
       "  </thead>\n",
       "  <tbody>\n",
       "    <tr>\n",
       "      <th>Avaliacao Reclamacao_Resolvida</th>\n",
       "      <td>0.662885</td>\n",
       "    </tr>\n",
       "    <tr>\n",
       "      <th>Avaliacao Reclamacao_Não Resolvida</th>\n",
       "      <td>0.269007</td>\n",
       "    </tr>\n",
       "    <tr>\n",
       "      <th>Procurou Empresa_S</th>\n",
       "      <td>0.008006</td>\n",
       "    </tr>\n",
       "    <tr>\n",
       "      <th>Tempo Resposta_10.0</th>\n",
       "      <td>0.006537</td>\n",
       "    </tr>\n",
       "    <tr>\n",
       "      <th>Nome Fantasia_Vivo - Telefônica (GVT)</th>\n",
       "      <td>0.006485</td>\n",
       "    </tr>\n",
       "    <tr>\n",
       "      <th>Tempo Resposta_8.0</th>\n",
       "      <td>0.005453</td>\n",
       "    </tr>\n",
       "    <tr>\n",
       "      <th>Tempo Resposta_9.0</th>\n",
       "      <td>0.003619</td>\n",
       "    </tr>\n",
       "    <tr>\n",
       "      <th>Sexo_M</th>\n",
       "      <td>0.003172</td>\n",
       "    </tr>\n",
       "    <tr>\n",
       "      <th>Como Comprou Contratou_Loja física</th>\n",
       "      <td>0.002881</td>\n",
       "    </tr>\n",
       "    <tr>\n",
       "      <th>Nome Fantasia_Tim</th>\n",
       "      <td>0.002679</td>\n",
       "    </tr>\n",
       "    <tr>\n",
       "      <th>Nome Fantasia_Carrefour.com</th>\n",
       "      <td>0.002385</td>\n",
       "    </tr>\n",
       "    <tr>\n",
       "      <th>Como Comprou Contratou_Domicílio</th>\n",
       "      <td>0.002284</td>\n",
       "    </tr>\n",
       "    <tr>\n",
       "      <th>Como Comprou Contratou_Internet</th>\n",
       "      <td>0.002184</td>\n",
       "    </tr>\n",
       "    <tr>\n",
       "      <th>Faixa Etaria_entre 21 a 30 anos</th>\n",
       "      <td>0.002105</td>\n",
       "    </tr>\n",
       "    <tr>\n",
       "      <th>Nome Fantasia_Casasbahia.com</th>\n",
       "      <td>0.001986</td>\n",
       "    </tr>\n",
       "    <tr>\n",
       "      <th>Faixa Etaria_entre 51 a 60 anos</th>\n",
       "      <td>0.001595</td>\n",
       "    </tr>\n",
       "    <tr>\n",
       "      <th>Faixa Etaria_entre 31 a 40 anos</th>\n",
       "      <td>0.001555</td>\n",
       "    </tr>\n",
       "    <tr>\n",
       "      <th>Como Comprou Contratou_Não comprei / contratei</th>\n",
       "      <td>0.001300</td>\n",
       "    </tr>\n",
       "    <tr>\n",
       "      <th>Faixa Etaria_entre 61 a 70 anos</th>\n",
       "      <td>0.001276</td>\n",
       "    </tr>\n",
       "    <tr>\n",
       "      <th>Faixa Etaria_entre 41 a 50 anos</th>\n",
       "      <td>0.001226</td>\n",
       "    </tr>\n",
       "  </tbody>\n",
       "</table>\n",
       "</div>"
      ],
      "text/plain": [
       "                                                Importances\n",
       "Avaliacao Reclamacao_Resolvida                     0.662885\n",
       "Avaliacao Reclamacao_Não Resolvida                 0.269007\n",
       "Procurou Empresa_S                                 0.008006\n",
       "Tempo Resposta_10.0                                0.006537\n",
       "Nome Fantasia_Vivo - Telefônica (GVT)              0.006485\n",
       "Tempo Resposta_8.0                                 0.005453\n",
       "Tempo Resposta_9.0                                 0.003619\n",
       "Sexo_M                                             0.003172\n",
       "Como Comprou Contratou_Loja física                 0.002881\n",
       "Nome Fantasia_Tim                                  0.002679\n",
       "Nome Fantasia_Carrefour.com                        0.002385\n",
       "Como Comprou Contratou_Domicílio                   0.002284\n",
       "Como Comprou Contratou_Internet                    0.002184\n",
       "Faixa Etaria_entre 21 a 30 anos                    0.002105\n",
       "Nome Fantasia_Casasbahia.com                       0.001986\n",
       "Faixa Etaria_entre 51 a 60 anos                    0.001595\n",
       "Faixa Etaria_entre 31 a 40 anos                    0.001555\n",
       "Como Comprou Contratou_Não comprei / contratei     0.001300\n",
       "Faixa Etaria_entre 61 a 70 anos                    0.001276\n",
       "Faixa Etaria_entre 41 a 50 anos                    0.001226"
      ]
     },
     "execution_count": 37,
     "metadata": {},
     "output_type": "execute_result"
    }
   ],
   "source": [
    "dt_feat_importances.sort_values(\"Importances\", ascending=False).iloc[:20]"
   ]
  },
  {
   "cell_type": "code",
   "execution_count": 38,
   "metadata": {},
   "outputs": [],
   "source": [
    "from sklearn.metrics import confusion_matrix\n",
    "import pandas as pd\n",
    "import seaborn as sn\n",
    "import matplotlib.pyplot as plt\n",
    "%matplotlib inline\n",
    "import numpy as npb"
   ]
  },
  {
   "cell_type": "code",
   "execution_count": 39,
   "metadata": {},
   "outputs": [
    {
     "data": {
      "text/plain": [
       "<matplotlib.axes._subplots.AxesSubplot at 0x25b470940c8>"
      ]
     },
     "execution_count": 39,
     "metadata": {},
     "output_type": "execute_result"
    },
    {
     "data": {
      "image/png": "[encoded data removed]",
      "text/plain": [
       "<Figure size 504x504 with 2 Axes>"
      ]
     },
     "metadata": {
      "needs_background": "light"
     },
     "output_type": "display_data"
    }
   ],
   "source": [
    "y_true = [y_test]\n",
    "y_pred = [y_pred_DT]\n",
    "data = confusion_matrix(y_test, y_pred_DT)\n",
    "df_cm = pd.DataFrame(data, columns=np.unique(y_true), index = np.unique(y_true))\n",
    "df_cm.index.name = 'Actual Scores'\n",
    "df_cm.columns.name = 'Predicted Scores'\n",
    "plt.figure(figsize = (7,7))\n",
    "sn.set(font_scale=1)#for label size\n",
    "sn.heatmap(df_cm, cmap=\"Blues\", annot=True,annot_kws={\"size\": 12})# font size"
   ]
  },
  {
   "cell_type": "markdown",
   "metadata": {},
   "source": [
    "## Random Forest"
   ]
  },
  {
   "cell_type": "code",
   "execution_count": 40,
   "metadata": {},
   "outputs": [],
   "source": [
    "from sklearn.ensemble import RandomForestClassifier"
   ]
  },
  {
   "cell_type": "code",
   "execution_count": 46,
   "metadata": {},
   "outputs": [],
   "source": [
    "rf = RandomForestClassifier(random_state=0, n_estimators=100) # Cria um objeto do tipo floresta aleatória"
   ]
  },
  {
   "cell_type": "code",
   "execution_count": 47,
   "metadata": {},
   "outputs": [
    {
     "data": {
      "text/plain": [
       "RandomForestClassifier(bootstrap=True, ccp_alpha=0.0, class_weight=None,\n",
       "                       criterion='gini', max_depth=None, max_features='auto',\n",
       "                       max_leaf_nodes=None, max_samples=None,\n",
       "                       min_impurity_decrease=0.0, min_impurity_split=None,\n",
       "                       min_samples_leaf=1, min_samples_split=2,\n",
       "                       min_weight_fraction_leaf=0.0, n_estimators=100,\n",
       "                       n_jobs=None, oob_score=False, random_state=0, verbose=0,\n",
       "                       warm_start=False)"
      ]
     },
     "execution_count": 47,
     "metadata": {},
     "output_type": "execute_result"
    }
   ],
   "source": [
    "rf.fit(X_train, y_train) # treina o modelo"
   ]
  },
  {
   "cell_type": "code",
   "execution_count": 48,
   "metadata": {},
   "outputs": [],
   "source": [
    "prev_rf = rf.predict(X_test)"
   ]
  },
  {
   "cell_type": "code",
   "execution_count": 49,
   "metadata": {},
   "outputs": [
    {
     "name": "stdout",
     "output_type": "stream",
     "text": [
      "              precision    recall  f1-score   support\n",
      "\n",
      "         0.0       1.00      1.00      1.00      2052\n",
      "         1.0       0.78      0.80      0.79      4045\n",
      "         2.0       0.08      0.01      0.01       856\n",
      "         3.0       0.12      0.02      0.03      2364\n",
      "         4.0       0.19      0.04      0.06      3343\n",
      "         5.0       0.66      0.94      0.77     12563\n",
      "\n",
      "    accuracy                           0.68     25223\n",
      "   macro avg       0.47      0.47      0.45     25223\n",
      "weighted avg       0.57      0.68      0.60     25223\n",
      "\n"
     ]
    }
   ],
   "source": [
    "print(classification_report(y_test, prev_rf))"
   ]
  },
  {
   "cell_type": "code",
   "execution_count": 50,
   "metadata": {},
   "outputs": [
    {
     "name": "stdout",
     "output_type": "stream",
     "text": [
      "[[ 2052     0     0     0     0     0]\n",
      " [    0  3227    38    71    46   663]\n",
      " [    0   301     7    19    19   510]\n",
      " [    0   290    17    43    85  1929]\n",
      " [    0   111     7    72   125  3028]\n",
      " [    0   212    23   165   370 11793]]\n"
     ]
    }
   ],
   "source": [
    "print(confusion_matrix(y_test, prev_rf))"
   ]
  },
  {
   "cell_type": "code",
   "execution_count": 53,
   "metadata": {},
   "outputs": [
    {
     "data": {
      "text/plain": [
       "<matplotlib.axes._subplots.AxesSubplot at 0x25b4bec1888>"
      ]
     },
     "execution_count": 53,
     "metadata": {},
     "output_type": "execute_result"
    },
    {
     "data": {
      "image/png": "[encoded data removed]",
      "text/plain": [
       "<Figure size 504x504 with 2 Axes>"
      ]
     },
     "metadata": {},
     "output_type": "display_data"
    }
   ],
   "source": [
    "y_true = [y_test]\n",
    "y_pred = [prev_rf]\n",
    "data = confusion_matrix(y_test, prev_rf)\n",
    "df_cm = pd.DataFrame(data, columns=np.unique(y_true), index = np.unique(y_true))\n",
    "df_cm.index.name = 'Actual Scores'\n",
    "df_cm.columns.name = 'Predicted Scores'\n",
    "plt.figure(figsize = (7,7))\n",
    "sn.set(font_scale=1)#for label size\n",
    "sn.heatmap(df_cm, cmap=\"Greens\", annot=True,annot_kws={\"size\": 12})# font size"
   ]
  },
  {
   "cell_type": "code",
   "execution_count": 54,
   "metadata": {},
   "outputs": [
    {
     "name": "stdout",
     "output_type": "stream",
     "text": [
      "Accuracy:  68.38%\n"
     ]
    }
   ],
   "source": [
    "print(\"Accuracy: {0: .2f}%\".format(100*accuracy_score(prev_rf, y_test)))"
   ]
  },
  {
   "cell_type": "code",
   "execution_count": null,
   "metadata": {},
   "outputs": [],
   "source": []
  },
  {
   "cell_type": "code",
   "execution_count": null,
   "metadata": {},
   "outputs": [],
   "source": []
  },
  {
   "cell_type": "markdown",
   "metadata": {},
   "source": [
    "## Grid Search"
   ]
  },
  {
   "cell_type": "code",
   "execution_count": 55,
   "metadata": {},
   "outputs": [
    {
     "name": "stdout",
     "output_type": "stream",
     "text": [
      "n_estimators 50\n",
      "max_depth 10\n",
      "best_score 0.7086191481473245\n",
      "Accuracy Score : 0.7043174880069778\n",
      "Precision Score : [1.         0.79332539 0.         0.         0.         0.65266653]\n",
      "Recall Score : [1.         0.82274413 0.         0.         0.         0.98583141]\n",
      "F1 Score : [1.         0.80776699 0.         0.         0.         0.78537684]\n"
     ]
    },
    {
     "name": "stderr",
     "output_type": "stream",
     "text": [
      "C:\\ProgramData\\Anaconda3\\lib\\site-packages\\sklearn\\metrics\\_classification.py:1272: UndefinedMetricWarning: Precision is ill-defined and being set to 0.0 in labels with no predicted samples. Use `zero_division` parameter to control this behavior.\n",
      "  _warn_prf(average, modifier, msg_start, len(result))\n"
     ]
    },
    {
     "data": {
      "text/plain": [
       "array([[ 2052,     0,     0,     0,     0,     0],\n",
       "       [    0,  3328,     0,     0,     0,   717],\n",
       "       [    0,   309,     0,     0,     0,   547],\n",
       "       [    0,   290,     0,     0,     0,  2074],\n",
       "       [    0,    90,     0,     0,     0,  3253],\n",
       "       [    0,   178,     0,     0,     0, 12385]], dtype=int64)"
      ]
     },
     "execution_count": 55,
     "metadata": {},
     "output_type": "execute_result"
    }
   ],
   "source": [
    "clf_rf = RandomForestClassifier(random_state=0)\n",
    "grid_values_rf = {\"n_estimators\": [10, 50, 100], 'max_depth' : [10, 50, 150]}\n",
    "grid_clf_acc_rf = GridSearchCV(clf_rf, param_grid = grid_values_rf,scoring = 'accuracy')\n",
    "grid_clf_acc_rf.fit(X_train, y_train)\n",
    "\n",
    "#Predict values based on new parameters\n",
    "y_pred_acc_rf = grid_clf_acc_rf.predict(X_test)\n",
    "\n",
    "\n",
    "best_n_estimators_value = grid_clf_acc_rf.best_params_['n_estimators']\n",
    "best_max_depth_value = grid_clf_acc_rf.best_params_['max_depth']\n",
    "best_score = grid_clf_acc_rf.best_score_\n",
    "\n",
    "\n",
    "# print best parameters\n",
    "print(\"n_estimators\", best_n_estimators_value)\n",
    "print(\"max_depth\", best_max_depth_value)\n",
    "print(\"best_score\", best_score)\n",
    "\n",
    "\n",
    "# New Model Evaluation metrics \n",
    "print('Accuracy Score : ' + str(accuracy_score(y_test,y_pred_acc_rf)))\n",
    "print('Precision Score : ' + str(precision_score(y_test,y_pred_acc_rf, average=None)))\n",
    "print('Recall Score : ' + str(recall_score(y_test,y_pred_acc_rf, average=None)))\n",
    "print('F1 Score : ' + str(f1_score(y_test,y_pred_acc_rf, average=None)))\n",
    "\n",
    "#Logistic Regression (Grid Search) Confusion matrix\n",
    "confusion_matrix(y_test,y_pred_acc_rf)"
   ]
  },
  {
   "cell_type": "code",
   "execution_count": 56,
   "metadata": {},
   "outputs": [
    {
     "data": {
      "text/plain": [
       "<matplotlib.axes._subplots.AxesSubplot at 0x25b4c122a88>"
      ]
     },
     "execution_count": 56,
     "metadata": {},
     "output_type": "execute_result"
    },
    {
     "data": {
      "image/png": "[encoded data removed]",
      "text/plain": [
       "<Figure size 504x504 with 2 Axes>"
      ]
     },
     "metadata": {},
     "output_type": "display_data"
    }
   ],
   "source": [
    "y_true = [y_test]\n",
    "y_pred = [y_pred_acc_rf]\n",
    "data = confusion_matrix(y_test, y_pred_acc_rf)\n",
    "df_cm = pd.DataFrame(data, columns=np.unique(y_true), index = np.unique(y_true))\n",
    "df_cm.index.name = 'Actual Scores'\n",
    "df_cm.columns.name = 'Predicted Scores'\n",
    "plt.figure(figsize = (7,7))\n",
    "sn.set(font_scale=1)#for label size\n",
    "sn.heatmap(df_cm, cmap=\"PuRd\", annot=True,annot_kws={\"size\": 12})# font size"
   ]
  },
  {
   "cell_type": "markdown",
   "metadata": {},
   "source": [
    "## Melhores parâmetros para random forest"
   ]
  },
  {
   "cell_type": "code",
   "execution_count": 57,
   "metadata": {},
   "outputs": [
    {
     "data": {
      "text/plain": [
       "RandomForestClassifier(bootstrap=True, ccp_alpha=0.0, class_weight=None,\n",
       "                       criterion='gini', max_depth=10, max_features='auto',\n",
       "                       max_leaf_nodes=None, max_samples=None,\n",
       "                       min_impurity_decrease=0.0, min_impurity_split=None,\n",
       "                       min_samples_leaf=1, min_samples_split=2,\n",
       "                       min_weight_fraction_leaf=0.0, n_estimators=50,\n",
       "                       n_jobs=None, oob_score=False, random_state=0, verbose=0,\n",
       "                       warm_start=False)"
      ]
     },
     "execution_count": 57,
     "metadata": {},
     "output_type": "execute_result"
    }
   ],
   "source": [
    "#Best hyper parameter \n",
    "clf = RandomForestClassifier(n_estimators=best_n_estimators_value, max_depth=best_max_depth_value, random_state=0)\n",
    "clf.fit(X_train, y_train)"
   ]
  },
  {
   "cell_type": "code",
   "execution_count": 58,
   "metadata": {},
   "outputs": [],
   "source": [
    "feature_importances = pd.DataFrame(clf.feature_importances_, index = X_train.columns, columns=[\"Importances\"]).sort_values(\n",
    "                        \"Importances\", ascending=False)"
   ]
  },
  {
   "cell_type": "code",
   "execution_count": 59,
   "metadata": {},
   "outputs": [
    {
     "data": {
      "text/html": [
       "<div>\n",
       "<style scoped>\n",
       "    .dataframe tbody tr th:only-of-type {\n",
       "        vertical-align: middle;\n",
       "    }\n",
       "\n",
       "    .dataframe tbody tr th {\n",
       "        vertical-align: top;\n",
       "    }\n",
       "\n",
       "    .dataframe thead th {\n",
       "        text-align: right;\n",
       "    }\n",
       "</style>\n",
       "<table border=\"1\" class=\"dataframe\">\n",
       "  <thead>\n",
       "    <tr style=\"text-align: right;\">\n",
       "      <th></th>\n",
       "      <th>Importances</th>\n",
       "    </tr>\n",
       "  </thead>\n",
       "  <tbody>\n",
       "    <tr>\n",
       "      <th>Avaliacao Reclamacao_Resolvida</th>\n",
       "      <td>0.367509</td>\n",
       "    </tr>\n",
       "    <tr>\n",
       "      <th>Avaliacao Reclamacao_Não Resolvida</th>\n",
       "      <td>0.293961</td>\n",
       "    </tr>\n",
       "    <tr>\n",
       "      <th>Situacao_Finalizada não avaliada</th>\n",
       "      <td>0.239677</td>\n",
       "    </tr>\n",
       "    <tr>\n",
       "      <th>Nome Fantasia_Vivo - Telefônica (GVT)</th>\n",
       "      <td>0.010710</td>\n",
       "    </tr>\n",
       "    <tr>\n",
       "      <th>Tempo Resposta_10.0</th>\n",
       "      <td>0.010351</td>\n",
       "    </tr>\n",
       "    <tr>\n",
       "      <th>Procurou Empresa_S</th>\n",
       "      <td>0.009036</td>\n",
       "    </tr>\n",
       "    <tr>\n",
       "      <th>Nome Fantasia_Casasbahia.com</th>\n",
       "      <td>0.004277</td>\n",
       "    </tr>\n",
       "    <tr>\n",
       "      <th>Nome Fantasia_Pontofrio.com</th>\n",
       "      <td>0.003926</td>\n",
       "    </tr>\n",
       "    <tr>\n",
       "      <th>Tempo Resposta_15.0</th>\n",
       "      <td>0.003908</td>\n",
       "    </tr>\n",
       "    <tr>\n",
       "      <th>Como Comprou Contratou_Internet</th>\n",
       "      <td>0.003576</td>\n",
       "    </tr>\n",
       "    <tr>\n",
       "      <th>Nome Fantasia_Carrefour.com</th>\n",
       "      <td>0.003213</td>\n",
       "    </tr>\n",
       "    <tr>\n",
       "      <th>Nome Fantasia_Americanas.com</th>\n",
       "      <td>0.003193</td>\n",
       "    </tr>\n",
       "    <tr>\n",
       "      <th>Tempo Resposta_6.0</th>\n",
       "      <td>0.003011</td>\n",
       "    </tr>\n",
       "    <tr>\n",
       "      <th>Tempo Resposta_5.0</th>\n",
       "      <td>0.002464</td>\n",
       "    </tr>\n",
       "    <tr>\n",
       "      <th>Nome Fantasia_NET</th>\n",
       "      <td>0.002357</td>\n",
       "    </tr>\n",
       "    <tr>\n",
       "      <th>Sexo_M</th>\n",
       "      <td>0.002350</td>\n",
       "    </tr>\n",
       "    <tr>\n",
       "      <th>Nome Fantasia_Tim</th>\n",
       "      <td>0.002327</td>\n",
       "    </tr>\n",
       "    <tr>\n",
       "      <th>Nome Fantasia_Apple</th>\n",
       "      <td>0.002014</td>\n",
       "    </tr>\n",
       "    <tr>\n",
       "      <th>Tempo Resposta_7.0</th>\n",
       "      <td>0.001798</td>\n",
       "    </tr>\n",
       "    <tr>\n",
       "      <th>Tempo Resposta_9.0</th>\n",
       "      <td>0.001794</td>\n",
       "    </tr>\n",
       "    <tr>\n",
       "      <th>Como Comprou Contratou_Loja física</th>\n",
       "      <td>0.001769</td>\n",
       "    </tr>\n",
       "    <tr>\n",
       "      <th>Tempo Resposta_11.0</th>\n",
       "      <td>0.001592</td>\n",
       "    </tr>\n",
       "    <tr>\n",
       "      <th>Nome Fantasia_Oi Fixo</th>\n",
       "      <td>0.001530</td>\n",
       "    </tr>\n",
       "    <tr>\n",
       "      <th>Como Comprou Contratou_Telefone</th>\n",
       "      <td>0.001445</td>\n",
       "    </tr>\n",
       "    <tr>\n",
       "      <th>Nome Fantasia_Extra.com</th>\n",
       "      <td>0.001306</td>\n",
       "    </tr>\n",
       "    <tr>\n",
       "      <th>Faixa Etaria_entre 21 a 30 anos</th>\n",
       "      <td>0.001277</td>\n",
       "    </tr>\n",
       "    <tr>\n",
       "      <th>Faixa Etaria_entre 31 a 40 anos</th>\n",
       "      <td>0.001268</td>\n",
       "    </tr>\n",
       "    <tr>\n",
       "      <th>Tempo Resposta_4.0</th>\n",
       "      <td>0.001193</td>\n",
       "    </tr>\n",
       "    <tr>\n",
       "      <th>Nome Fantasia_Claro Celular</th>\n",
       "      <td>0.001139</td>\n",
       "    </tr>\n",
       "    <tr>\n",
       "      <th>Tempo Resposta_2.0</th>\n",
       "      <td>0.001132</td>\n",
       "    </tr>\n",
       "  </tbody>\n",
       "</table>\n",
       "</div>"
      ],
      "text/plain": [
       "                                       Importances\n",
       "Avaliacao Reclamacao_Resolvida            0.367509\n",
       "Avaliacao Reclamacao_Não Resolvida        0.293961\n",
       "Situacao_Finalizada não avaliada          0.239677\n",
       "Nome Fantasia_Vivo - Telefônica (GVT)     0.010710\n",
       "Tempo Resposta_10.0                       0.010351\n",
       "Procurou Empresa_S                        0.009036\n",
       "Nome Fantasia_Casasbahia.com              0.004277\n",
       "Nome Fantasia_Pontofrio.com               0.003926\n",
       "Tempo Resposta_15.0                       0.003908\n",
       "Como Comprou Contratou_Internet           0.003576\n",
       "Nome Fantasia_Carrefour.com               0.003213\n",
       "Nome Fantasia_Americanas.com              0.003193\n",
       "Tempo Resposta_6.0                        0.003011\n",
       "Tempo Resposta_5.0                        0.002464\n",
       "Nome Fantasia_NET                         0.002357\n",
       "Sexo_M                                    0.002350\n",
       "Nome Fantasia_Tim                         0.002327\n",
       "Nome Fantasia_Apple                       0.002014\n",
       "Tempo Resposta_7.0                        0.001798\n",
       "Tempo Resposta_9.0                        0.001794\n",
       "Como Comprou Contratou_Loja física        0.001769\n",
       "Tempo Resposta_11.0                       0.001592\n",
       "Nome Fantasia_Oi Fixo                     0.001530\n",
       "Como Comprou Contratou_Telefone           0.001445\n",
       "Nome Fantasia_Extra.com                   0.001306\n",
       "Faixa Etaria_entre 21 a 30 anos           0.001277\n",
       "Faixa Etaria_entre 31 a 40 anos           0.001268\n",
       "Tempo Resposta_4.0                        0.001193\n",
       "Nome Fantasia_Claro Celular               0.001139\n",
       "Tempo Resposta_2.0                        0.001132"
      ]
     },
     "execution_count": 59,
     "metadata": {},
     "output_type": "execute_result"
    }
   ],
   "source": [
    "feature_importances.iloc[:30]"
   ]
  },
  {
   "cell_type": "code",
   "execution_count": null,
   "metadata": {},
   "outputs": [],
   "source": []
  },
  {
   "cell_type": "code",
   "execution_count": null,
   "metadata": {},
   "outputs": [],
   "source": []
  },
  {
   "cell_type": "code",
   "execution_count": null,
   "metadata": {},
   "outputs": [],
   "source": []
  },
  {
   "cell_type": "code",
   "execution_count": null,
   "metadata": {},
   "outputs": [],
   "source": []
  },
  {
   "cell_type": "code",
   "execution_count": null,
   "metadata": {},
   "outputs": [],
   "source": []
  },
  {
   "cell_type": "code",
   "execution_count": null,
   "metadata": {},
   "outputs": [],
   "source": []
  },
  {
   "cell_type": "code",
   "execution_count": null,
   "metadata": {},
   "outputs": [],
   "source": []
  },
  {
   "cell_type": "markdown",
   "metadata": {},
   "source": [
    "### Essa é a parte antiga do seu código!"
   ]
  },
  {
   "cell_type": "code",
   "execution_count": null,
   "metadata": {},
   "outputs": [],
   "source": [
    "X.shape"
   ]
  },
  {
   "cell_type": "code",
   "execution_count": null,
   "metadata": {},
   "outputs": [],
   "source": [
    "xTrain, xTest, yTrain, yTest = train_test_split(X, Y, train_size=0.8, random_state=3)\n",
    "testSize = yTest.shape[0]"
   ]
  },
  {
   "cell_type": "code",
   "execution_count": null,
   "metadata": {},
   "outputs": [],
   "source": [
    "yTrain[yTrain == 0].shape[0] / yTrain.shape[0]"
   ]
  },
  {
   "cell_type": "code",
   "execution_count": null,
   "metadata": {},
   "outputs": [],
   "source": [
    "yTrain[yTrain == 1].shape[0] / yTrain.shape[0]"
   ]
  },
  {
   "cell_type": "code",
   "execution_count": null,
   "metadata": {},
   "outputs": [],
   "source": [
    "yTrain[yTrain == 2].shape[0] / yTrain.shape[0]"
   ]
  },
  {
   "cell_type": "code",
   "execution_count": null,
   "metadata": {},
   "outputs": [],
   "source": [
    "yTrain[yTrain == 3].shape[0] / yTrain.shape[0]"
   ]
  },
  {
   "cell_type": "code",
   "execution_count": null,
   "metadata": {},
   "outputs": [],
   "source": [
    "yTrain[yTrain == 4].shape[0] / yTrain.shape[0]"
   ]
  },
  {
   "cell_type": "code",
   "execution_count": null,
   "metadata": {},
   "outputs": [],
   "source": [
    "yTrain[yTrain == 5].shape[0] / yTrain.shape[0]"
   ]
  },
  {
   "cell_type": "code",
   "execution_count": null,
   "metadata": {},
   "outputs": [],
   "source": [
    "#Decision Tree\n",
    "\n",
    "\n",
    "\n",
    "dt = DecisionTreeClassifier(max_depth=100)\n",
    "dt.fit(xTrain, yTrain.ravel())\n",
    "yPredDT = dt.predict(xTest) # predicting test data\n",
    "yPredDTroc = dt.predict_proba(xTest)[:,1]\n"
   ]
  },
  {
   "cell_type": "code",
   "execution_count": null,
   "metadata": {},
   "outputs": [],
   "source": [
    "sum([yPredDT != yTest]).sum()"
   ]
  },
  {
   "cell_type": "code",
   "execution_count": null,
   "metadata": {},
   "outputs": [],
   "source": [
    "\n",
    "# computing error\n",
    "\n",
    "errorDT = sum([yPredDT != yTest]).sum()\n",
    "errorDTPCT = int(100*errorDT/testSize)\n",
    "hitRateDTPCT = 100 - errorDTPCT\n",
    "\n"
   ]
  },
  {
   "cell_type": "code",
   "execution_count": null,
   "metadata": {},
   "outputs": [],
   "source": [
    "errorDTPCT"
   ]
  },
  {
   "cell_type": "code",
   "execution_count": null,
   "metadata": {},
   "outputs": [],
   "source": [
    "#Which features are more important to predict 'Nota do Consumidor'\n",
    "\n",
    "print(classification_report(yTest, yPredDT))\n"
   ]
  },
  {
   "cell_type": "code",
   "execution_count": null,
   "metadata": {
    "scrolled": true
   },
   "outputs": [],
   "source": [
    "pd.DataFrame(np.round(confusion_matrix(yTest, yPredDT)/yTest.shape[0],4))"
   ]
  },
  {
   "cell_type": "code",
   "execution_count": null,
   "metadata": {},
   "outputs": [],
   "source": [
    "confusion_matrix(yTest, yPredDT)"
   ]
  },
  {
   "cell_type": "code",
   "execution_count": null,
   "metadata": {},
   "outputs": [],
   "source": [
    "yTest.shape"
   ]
  },
  {
   "cell_type": "code",
   "execution_count": null,
   "metadata": {},
   "outputs": [],
   "source": [
    "from sklearn.metrics import confusion_matrix\n",
    "import pandas as pd\n",
    "import seaborn as sn\n",
    "import matplotlib.pyplot as plt\n",
    "%matplotlib inline\n",
    "import numpy as np"
   ]
  },
  {
   "cell_type": "code",
   "execution_count": null,
   "metadata": {},
   "outputs": [],
   "source": [
    "y_true = [yTest]\n",
    "y_pred = [yPredDT]\n",
    "data = confusion_matrix(yTest, yPredDT)\n",
    "df_cm = pd.DataFrame(data, columns=np.unique(y_true), index = np.unique(y_true))\n",
    "df_cm.index.name = 'Actual Scores'\n",
    "df_cm.columns.name = 'Predicted Scores'\n",
    "plt.figure(figsize = (7,7))\n",
    "sn.set(font_scale=1)#for label size\n",
    "sn.heatmap(df_cm, cmap=\"Blues\", annot=True,annot_kws={\"size\": 12})# font size"
   ]
  },
  {
   "cell_type": "code",
   "execution_count": null,
   "metadata": {},
   "outputs": [],
   "source": []
  },
  {
   "cell_type": "code",
   "execution_count": null,
   "metadata": {},
   "outputs": [],
   "source": [
    "\n",
    "\n",
    "#X, Y = make_classification(random_state=0)\n",
    "#xTrain, xTest, yTrain, yTest = train_test_split(X, Y, random_state=0)\n",
    "#clf = DecisionTreeClassifier(random_state=0)\n",
    "#clf.fit(xTrain, yTrain)\n",
    "#DecisionTreeClassifier(random_state=0)\n",
    "#plot_confusion_matrix(clf, xTest, yTest)\n",
    "#plt.show()"
   ]
  },
  {
   "cell_type": "code",
   "execution_count": null,
   "metadata": {},
   "outputs": [],
   "source": []
  },
  {
   "cell_type": "code",
   "execution_count": null,
   "metadata": {},
   "outputs": [],
   "source": [
    "#Feature importance\n",
    "\n",
    "dt_feat_importances = pd.DataFrame(dt.feature_importances_, index = xTrain.columns, columns=[\"Importances\"]).sort_values(\n",
    "                        \"Importances\", ascending=False)\n"
   ]
  },
  {
   "cell_type": "code",
   "execution_count": null,
   "metadata": {},
   "outputs": [],
   "source": []
  },
  {
   "cell_type": "code",
   "execution_count": null,
   "metadata": {},
   "outputs": [],
   "source": [
    "dt_feat_importances"
   ]
  },
  {
   "cell_type": "code",
   "execution_count": null,
   "metadata": {},
   "outputs": [],
   "source": [
    "# Random Forest\n",
    "\n",
    "rf = RandomForestClassifier(max_depth=4, n_estimators=100,bootstrap=True)\n",
    "rf.fit(xTrain, yTrain.ravel())\n",
    "yPredRF = rf.predict(xTest) # predicting test data\n",
    "yPredRFroc = rf.predict_proba(xTest)[:,1]"
   ]
  },
  {
   "cell_type": "code",
   "execution_count": null,
   "metadata": {},
   "outputs": [],
   "source": [
    "sum([yPredRF != yTest]).sum()"
   ]
  },
  {
   "cell_type": "code",
   "execution_count": null,
   "metadata": {},
   "outputs": [],
   "source": [
    "# computing error\n",
    "\n",
    "errorRF = sum([yPredRF != yTest]).sum()\n",
    "errorRFPCT = int(100*errorRF/testSize)\n",
    "hitRateRFPCT = 100 - errorRFPCT"
   ]
  },
  {
   "cell_type": "code",
   "execution_count": null,
   "metadata": {},
   "outputs": [],
   "source": [
    "errorRFPCT"
   ]
  },
  {
   "cell_type": "code",
   "execution_count": null,
   "metadata": {},
   "outputs": [],
   "source": [
    "#printing\n",
    "print(\"----------Random Forest Classfier----------\")\n",
    "print(int(errorRF), \"misclassified data out of\", testSize)\n",
    "print(\"Error PCT: \",errorRFPCT,'%')\n",
    "print(\"Hit Rate:  \",hitRateRFPCT,'%')"
   ]
  },
  {
   "cell_type": "code",
   "execution_count": null,
   "metadata": {},
   "outputs": [],
   "source": [
    "dt_feat_importances = pd.DataFrame(dt.feature_importances_, index = xTrain.columns, columns=[\"Importances\"]).sort_values(\n",
    "                        \"Importances\", ascending=False)"
   ]
  },
  {
   "cell_type": "code",
   "execution_count": null,
   "metadata": {},
   "outputs": [],
   "source": [
    "dt_feat_importances"
   ]
  },
  {
   "cell_type": "code",
   "execution_count": null,
   "metadata": {},
   "outputs": [],
   "source": [
    "# Constructing the ROC curve and AUC\n",
    "fpr, tpr, thresh = roc_curve(yTest.ravel(), yPredRFroc.ravel())\n",
    "#fpr, tpr, thresh = roc_curve(yTest.ravel(), yPredRF.ravel())\n",
    "rocAuc = auc(fpr, tpr)"
   ]
  },
  {
   "cell_type": "code",
   "execution_count": null,
   "metadata": {},
   "outputs": [],
   "source": [
    "# Plotting everything\n",
    "plt.figure()\n",
    "lw = 2\n",
    "plt.plot(fpr, tpr, color='darkorange',\n",
    "         lw=lw, label='ROC curve (area = %0.2f)' % rocAuc)\n",
    "plt.plot([0, 1], [0, 1], color='navy', lw=lw, linestyle='--')\n",
    "plt.xlim([0.0, 1.0])\n",
    "plt.ylim([0.0, 1.01])\n",
    "plt.xlabel('False Positive Rate')\n",
    "plt.ylabel('True Positive Rate')\n",
    "plt.title('Receiver operating characteristic')\n",
    "plt.legend(loc=\"lower right\")\n",
    "plt.show()"
   ]
  },
  {
   "cell_type": "code",
   "execution_count": 60,
   "metadata": {},
   "outputs": [
    {
     "ename": "NameError",
     "evalue": "name 'GradientBoostingClassifier' is not defined",
     "output_type": "error",
     "traceback": [
      "\u001b[1;31m---------------------------------------------------------------------------\u001b[0m",
      "\u001b[1;31mNameError\u001b[0m                                 Traceback (most recent call last)",
      "\u001b[1;32m<ipython-input-60-d9556f75e09b>\u001b[0m in \u001b[0;36m<module>\u001b[1;34m\u001b[0m\n\u001b[0;32m      1\u001b[0m \u001b[1;31m# Gradient Boosting\u001b[0m\u001b[1;33m\u001b[0m\u001b[1;33m\u001b[0m\u001b[1;33m\u001b[0m\u001b[0m\n\u001b[0;32m      2\u001b[0m \u001b[1;33m\u001b[0m\u001b[0m\n\u001b[1;32m----> 3\u001b[1;33m \u001b[0mgb\u001b[0m \u001b[1;33m=\u001b[0m \u001b[0mGradientBoostingClassifier\u001b[0m\u001b[1;33m(\u001b[0m\u001b[0mmax_depth\u001b[0m\u001b[1;33m=\u001b[0m\u001b[1;36m4\u001b[0m\u001b[1;33m,\u001b[0m \u001b[0mn_estimators\u001b[0m\u001b[1;33m=\u001b[0m\u001b[1;36m100\u001b[0m\u001b[1;33m,\u001b[0m \u001b[0mlearning_rate\u001b[0m\u001b[1;33m=\u001b[0m\u001b[1;36m0.1\u001b[0m\u001b[1;33m)\u001b[0m\u001b[1;33m\u001b[0m\u001b[1;33m\u001b[0m\u001b[0m\n\u001b[0m\u001b[0;32m      4\u001b[0m \u001b[0mgb\u001b[0m\u001b[1;33m.\u001b[0m\u001b[0mfit\u001b[0m\u001b[1;33m(\u001b[0m\u001b[0mxTrain\u001b[0m\u001b[1;33m,\u001b[0m \u001b[0myTrain\u001b[0m\u001b[1;33m.\u001b[0m\u001b[0mravel\u001b[0m\u001b[1;33m(\u001b[0m\u001b[1;33m)\u001b[0m\u001b[1;33m)\u001b[0m\u001b[1;33m\u001b[0m\u001b[1;33m\u001b[0m\u001b[0m\n\u001b[0;32m      5\u001b[0m \u001b[0myPredGB\u001b[0m \u001b[1;33m=\u001b[0m \u001b[0mgb\u001b[0m\u001b[1;33m.\u001b[0m\u001b[0mpredict\u001b[0m\u001b[1;33m(\u001b[0m\u001b[0mxTest\u001b[0m\u001b[1;33m)\u001b[0m \u001b[1;31m# predicting test data\u001b[0m\u001b[1;33m\u001b[0m\u001b[1;33m\u001b[0m\u001b[0m\n",
      "\u001b[1;31mNameError\u001b[0m: name 'GradientBoostingClassifier' is not defined"
     ]
    }
   ],
   "source": [
    "# Gradient Boosting\n",
    "\n",
    "gb = GradientBoostingClassifier(max_depth=4, n_estimators=100, learning_rate=0.1)\n",
    "gb.fit(xTrain, yTrain.ravel())\n",
    "yPredGB = gb.predict(xTest) # predicting test data\n",
    "yPredGBroc = gb.predict_proba(xTest)[:,1]"
   ]
  },
  {
   "cell_type": "code",
   "execution_count": null,
   "metadata": {},
   "outputs": [],
   "source": [
    "sum([yPredGB != yTest]).sum()"
   ]
  },
  {
   "cell_type": "code",
   "execution_count": null,
   "metadata": {},
   "outputs": [],
   "source": [
    "# computing error\n",
    "\n",
    "errorGB = sum([yPredGB != yTest]).sum()\n",
    "errorGBPCT = int(100*errorGB/testSize)\n",
    "hitRateGBPCT = 100 - errorGBPCT"
   ]
  },
  {
   "cell_type": "code",
   "execution_count": null,
   "metadata": {},
   "outputs": [],
   "source": [
    "errorGBPCT"
   ]
  },
  {
   "cell_type": "code",
   "execution_count": null,
   "metadata": {},
   "outputs": [],
   "source": [
    "print(\"----------Gradient Boosting Classfier----------\")\n",
    "print(int(errorGB), \"misclassified data out of\", testSize)\n",
    "print(\"Error PCT: \",errorGBPCT,'%')\n",
    "print(\"Hit Rate:  \",hitRateGBPCT,'%')"
   ]
  },
  {
   "cell_type": "code",
   "execution_count": null,
   "metadata": {},
   "outputs": [],
   "source": [
    "# Constructing the ROC curve and AUC\n",
    "fpr, tpr, thresh = roc_curve(yTest.ravel(), yPredGBroc.ravel())\n",
    "#fpr, tpr, thresh = roc_curve(yTest.ravel(), yPredGB.ravel())\n",
    "rocAuc = auc(fpr, tpr)"
   ]
  },
  {
   "cell_type": "code",
   "execution_count": null,
   "metadata": {},
   "outputs": [],
   "source": [
    "plt.figure()\n",
    "lw = 2\n",
    "plt.plot(fpr, tpr, color='darkorange',\n",
    "         lw=lw, label='ROC curve (area = %0.2f)' % rocAuc)\n",
    "plt.plot([0, 1], [0, 1], color='navy', lw=lw, linestyle='--')\n",
    "plt.xlim([0.0, 1.0])\n",
    "plt.ylim([0.0, 1.01])\n",
    "plt.xlabel('False Positive Rate')\n",
    "plt.ylabel('True Positive Rate')\n",
    "plt.title('Receiver operating characteristic')\n",
    "plt.legend(loc=\"lower right\")\n",
    "plt.show()"
   ]
  },
  {
   "cell_type": "code",
   "execution_count": null,
   "metadata": {},
   "outputs": [],
   "source": []
  }
 ],
 "metadata": {
  "kernelspec": {
   "display_name": "Python 3",
   "language": "python",
   "name": "python3"
  },
  "language_info": {
   "codemirror_mode": {
    "name": "ipython",
    "version": 3
   },
   "file_extension": ".py",
   "mimetype": "text/x-python",
   "name": "python",
   "nbconvert_exporter": "python",
   "pygments_lexer": "ipython3",
   "version": "3.7.6"
  }
 },
 "nbformat": 4,
 "nbformat_minor": 4
}
