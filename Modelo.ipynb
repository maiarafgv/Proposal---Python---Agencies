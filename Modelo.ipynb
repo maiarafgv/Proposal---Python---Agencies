{
 "cells": [
  {
   "cell_type": "code",
   "execution_count": 1,
   "metadata": {},
   "outputs": [],
   "source": [
    "import pandas as pd\n",
    "import numpy as np"
   ]
  },
  {
   "cell_type": "code",
   "execution_count": 2,
   "metadata": {},
   "outputs": [],
   "source": [
    "data=pd.read_csv('DadosTelecom2019_novo.csv')"
   ]
  },
  {
   "cell_type": "code",
   "execution_count": 3,
   "metadata": {},
   "outputs": [
    {
     "data": {
      "text/html": [
       "<div>\n",
       "<style scoped>\n",
       "    .dataframe tbody tr th:only-of-type {\n",
       "        vertical-align: middle;\n",
       "    }\n",
       "\n",
       "    .dataframe tbody tr th {\n",
       "        vertical-align: top;\n",
       "    }\n",
       "\n",
       "    .dataframe thead th {\n",
       "        text-align: right;\n",
       "    }\n",
       "</style>\n",
       "<table border=\"1\" class=\"dataframe\">\n",
       "  <thead>\n",
       "    <tr style=\"text-align: right;\">\n",
       "      <th></th>\n",
       "      <th>Unnamed: 0</th>\n",
       "      <th>Região</th>\n",
       "      <th>UF</th>\n",
       "      <th>Cidade</th>\n",
       "      <th>Sexo</th>\n",
       "      <th>Faixa Etária</th>\n",
       "      <th>Data Finalização</th>\n",
       "      <th>Tempo Resposta</th>\n",
       "      <th>Nome Fantasia</th>\n",
       "      <th>Segmento de Mercado</th>\n",
       "      <th>...</th>\n",
       "      <th>Situação</th>\n",
       "      <th>Avaliação Reclamação</th>\n",
       "      <th>Nota do Consumidor</th>\n",
       "      <th>Total</th>\n",
       "      <th>ï»¿RegiÃ£o</th>\n",
       "      <th>Faixa EtÃ¡ria</th>\n",
       "      <th>Data FinalizaÃ§Ã£o</th>\n",
       "      <th>Ãrea</th>\n",
       "      <th>SituaÃ§Ã£o</th>\n",
       "      <th>AvaliaÃ§Ã£o ReclamaÃ§Ã£o</th>\n",
       "    </tr>\n",
       "  </thead>\n",
       "  <tbody>\n",
       "    <tr>\n",
       "      <th>0</th>\n",
       "      <td>0</td>\n",
       "      <td>SE</td>\n",
       "      <td>SP</td>\n",
       "      <td>São Paulo</td>\n",
       "      <td>M</td>\n",
       "      <td>entre 31 a 40 anos</td>\n",
       "      <td>31/01/2019</td>\n",
       "      <td>2.0</td>\n",
       "      <td>Samsung</td>\n",
       "      <td>Fabricantes - Eletroeletrônicos,  Produtos de ...</td>\n",
       "      <td>...</td>\n",
       "      <td>Finalizada avaliada</td>\n",
       "      <td>Não Resolvida</td>\n",
       "      <td>1.0</td>\n",
       "      <td>1</td>\n",
       "      <td>NaN</td>\n",
       "      <td>NaN</td>\n",
       "      <td>NaN</td>\n",
       "      <td>NaN</td>\n",
       "      <td>NaN</td>\n",
       "      <td>NaN</td>\n",
       "    </tr>\n",
       "    <tr>\n",
       "      <th>1</th>\n",
       "      <td>1</td>\n",
       "      <td>SE</td>\n",
       "      <td>SP</td>\n",
       "      <td>Pindamonhangaba</td>\n",
       "      <td>M</td>\n",
       "      <td>entre 51 a 60 anos</td>\n",
       "      <td>26/01/2019</td>\n",
       "      <td>1.0</td>\n",
       "      <td>NET</td>\n",
       "      <td>Operadoras de Telecomunicações (Telefonia, Int...</td>\n",
       "      <td>...</td>\n",
       "      <td>Finalizada avaliada</td>\n",
       "      <td>Resolvida</td>\n",
       "      <td>5.0</td>\n",
       "      <td>1</td>\n",
       "      <td>NaN</td>\n",
       "      <td>NaN</td>\n",
       "      <td>NaN</td>\n",
       "      <td>NaN</td>\n",
       "      <td>NaN</td>\n",
       "      <td>NaN</td>\n",
       "    </tr>\n",
       "    <tr>\n",
       "      <th>2</th>\n",
       "      <td>2</td>\n",
       "      <td>SE</td>\n",
       "      <td>SP</td>\n",
       "      <td>São Paulo</td>\n",
       "      <td>M</td>\n",
       "      <td>entre 31 a 40 anos</td>\n",
       "      <td>29/01/2019</td>\n",
       "      <td>5.0</td>\n",
       "      <td>Oi Celular</td>\n",
       "      <td>Operadoras de Telecomunicações (Telefonia, Int...</td>\n",
       "      <td>...</td>\n",
       "      <td>Finalizada avaliada</td>\n",
       "      <td>Resolvida</td>\n",
       "      <td>5.0</td>\n",
       "      <td>1</td>\n",
       "      <td>NaN</td>\n",
       "      <td>NaN</td>\n",
       "      <td>NaN</td>\n",
       "      <td>NaN</td>\n",
       "      <td>NaN</td>\n",
       "      <td>NaN</td>\n",
       "    </tr>\n",
       "    <tr>\n",
       "      <th>3</th>\n",
       "      <td>3</td>\n",
       "      <td>SE</td>\n",
       "      <td>RJ</td>\n",
       "      <td>Queimados</td>\n",
       "      <td>F</td>\n",
       "      <td>entre 31 a 40 anos</td>\n",
       "      <td>31/01/2019</td>\n",
       "      <td>4.0</td>\n",
       "      <td>Oi Fixo</td>\n",
       "      <td>Operadoras de Telecomunicações (Telefonia, Int...</td>\n",
       "      <td>...</td>\n",
       "      <td>Finalizada avaliada</td>\n",
       "      <td>Resolvida</td>\n",
       "      <td>5.0</td>\n",
       "      <td>1</td>\n",
       "      <td>NaN</td>\n",
       "      <td>NaN</td>\n",
       "      <td>NaN</td>\n",
       "      <td>NaN</td>\n",
       "      <td>NaN</td>\n",
       "      <td>NaN</td>\n",
       "    </tr>\n",
       "    <tr>\n",
       "      <th>4</th>\n",
       "      <td>4</td>\n",
       "      <td>NE</td>\n",
       "      <td>PI</td>\n",
       "      <td>Parnaíba</td>\n",
       "      <td>M</td>\n",
       "      <td>entre 21 a 30 anos</td>\n",
       "      <td>24/01/2019</td>\n",
       "      <td>2.0</td>\n",
       "      <td>Oi Fixo</td>\n",
       "      <td>Operadoras de Telecomunicações (Telefonia, Int...</td>\n",
       "      <td>...</td>\n",
       "      <td>Finalizada avaliada</td>\n",
       "      <td>Resolvida</td>\n",
       "      <td>5.0</td>\n",
       "      <td>1</td>\n",
       "      <td>NaN</td>\n",
       "      <td>NaN</td>\n",
       "      <td>NaN</td>\n",
       "      <td>NaN</td>\n",
       "      <td>NaN</td>\n",
       "      <td>NaN</td>\n",
       "    </tr>\n",
       "  </tbody>\n",
       "</table>\n",
       "<p>5 rows × 27 columns</p>\n",
       "</div>"
      ],
      "text/plain": [
       "   Unnamed: 0 Região  UF           Cidade Sexo        Faixa Etária  \\\n",
       "0           0     SE  SP        São Paulo    M  entre 31 a 40 anos   \n",
       "1           1     SE  SP  Pindamonhangaba    M  entre 51 a 60 anos   \n",
       "2           2     SE  SP        São Paulo    M  entre 31 a 40 anos   \n",
       "3           3     SE  RJ        Queimados    F  entre 31 a 40 anos   \n",
       "4           4     NE  PI         Parnaíba    M  entre 21 a 30 anos   \n",
       "\n",
       "  Data Finalização  Tempo Resposta Nome Fantasia  \\\n",
       "0       31/01/2019             2.0       Samsung   \n",
       "1       26/01/2019             1.0           NET   \n",
       "2       29/01/2019             5.0    Oi Celular   \n",
       "3       31/01/2019             4.0       Oi Fixo   \n",
       "4       24/01/2019             2.0       Oi Fixo   \n",
       "\n",
       "                                 Segmento de Mercado  ...  \\\n",
       "0  Fabricantes - Eletroeletrônicos,  Produtos de ...  ...   \n",
       "1  Operadoras de Telecomunicações (Telefonia, Int...  ...   \n",
       "2  Operadoras de Telecomunicações (Telefonia, Int...  ...   \n",
       "3  Operadoras de Telecomunicações (Telefonia, Int...  ...   \n",
       "4  Operadoras de Telecomunicações (Telefonia, Int...  ...   \n",
       "\n",
       "              Situação Avaliação Reclamação Nota do Consumidor Total  \\\n",
       "0  Finalizada avaliada        Não Resolvida                1.0     1   \n",
       "1  Finalizada avaliada            Resolvida                5.0     1   \n",
       "2  Finalizada avaliada            Resolvida                5.0     1   \n",
       "3  Finalizada avaliada            Resolvida                5.0     1   \n",
       "4  Finalizada avaliada            Resolvida                5.0     1   \n",
       "\n",
       "  ï»¿RegiÃ£o Faixa EtÃ¡ria Data FinalizaÃ§Ã£o Ãrea SituaÃ§Ã£o  \\\n",
       "0        NaN           NaN                NaN   NaN        NaN   \n",
       "1        NaN           NaN                NaN   NaN        NaN   \n",
       "2        NaN           NaN                NaN   NaN        NaN   \n",
       "3        NaN           NaN                NaN   NaN        NaN   \n",
       "4        NaN           NaN                NaN   NaN        NaN   \n",
       "\n",
       "   AvaliaÃ§Ã£o ReclamaÃ§Ã£o  \n",
       "0                       NaN  \n",
       "1                       NaN  \n",
       "2                       NaN  \n",
       "3                       NaN  \n",
       "4                       NaN  \n",
       "\n",
       "[5 rows x 27 columns]"
      ]
     },
     "execution_count": 3,
     "metadata": {},
     "output_type": "execute_result"
    }
   ],
   "source": [
    "data.head()"
   ]
  },
  {
   "cell_type": "code",
   "execution_count": 4,
   "metadata": {},
   "outputs": [
    {
     "data": {
      "text/plain": [
       "Index(['Unnamed: 0', 'Região', 'UF', 'Cidade', 'Sexo', 'Faixa Etária',\n",
       "       'Data Finalização', 'Tempo Resposta', 'Nome Fantasia',\n",
       "       'Segmento de Mercado', 'Área', 'Assunto', 'Grupo Problema', 'Problema',\n",
       "       'Como Comprou Contratou', 'Procurou Empresa', 'Respondida', 'Situação',\n",
       "       'Avaliação Reclamação', 'Nota do Consumidor', 'Total', 'ï»¿RegiÃ£o',\n",
       "       'Faixa EtÃ¡ria', 'Data FinalizaÃ§Ã£o', 'Ãrea', 'SituaÃ§Ã£o',\n",
       "       'AvaliaÃ§Ã£o ReclamaÃ§Ã£o'],\n",
       "      dtype='object')"
      ]
     },
     "execution_count": 4,
     "metadata": {},
     "output_type": "execute_result"
    }
   ],
   "source": [
    "data.columns"
   ]
  },
  {
   "cell_type": "code",
   "execution_count": 5,
   "metadata": {},
   "outputs": [],
   "source": [
    "data.columns= ['Unnamed: 0', 'Regiao', 'UF', 'Cidade', 'Sexo', 'Faixa Etaria',\n",
    "       'Data Finalizacao', 'Tempo Resposta', 'Nome Fantasia',\n",
    "       'Segmento de Mercado', 'Area', 'Assunto', 'Grupo Problema', 'Problema',\n",
    "       'Como Comprou Contratou', 'Procurou Empresa', 'Respondida', 'Situacao',\n",
    "       'Avaliacao Reclamacao', 'Nota do Consumidor', 'Total', 'Regiao',\n",
    "       'Faixa Etaria2', 'Data Finalizacao', 'Area', 'Situacao2',\n",
    "       'Avaliacao Reclamacao2']"
   ]
  },
  {
   "cell_type": "code",
   "execution_count": 6,
   "metadata": {},
   "outputs": [
    {
     "data": {
      "text/html": [
       "<div>\n",
       "<style scoped>\n",
       "    .dataframe tbody tr th:only-of-type {\n",
       "        vertical-align: middle;\n",
       "    }\n",
       "\n",
       "    .dataframe tbody tr th {\n",
       "        vertical-align: top;\n",
       "    }\n",
       "\n",
       "    .dataframe thead th {\n",
       "        text-align: right;\n",
       "    }\n",
       "</style>\n",
       "<table border=\"1\" class=\"dataframe\">\n",
       "  <thead>\n",
       "    <tr style=\"text-align: right;\">\n",
       "      <th></th>\n",
       "      <th>Unnamed: 0</th>\n",
       "      <th>Regiao</th>\n",
       "      <th>UF</th>\n",
       "      <th>Cidade</th>\n",
       "      <th>Sexo</th>\n",
       "      <th>Faixa Etaria</th>\n",
       "      <th>Data Finalizacao</th>\n",
       "      <th>Tempo Resposta</th>\n",
       "      <th>Nome Fantasia</th>\n",
       "      <th>Segmento de Mercado</th>\n",
       "      <th>...</th>\n",
       "      <th>Situacao</th>\n",
       "      <th>Avaliacao Reclamacao</th>\n",
       "      <th>Nota do Consumidor</th>\n",
       "      <th>Total</th>\n",
       "      <th>Regiao</th>\n",
       "      <th>Faixa Etaria2</th>\n",
       "      <th>Data Finalizacao</th>\n",
       "      <th>Area</th>\n",
       "      <th>Situacao2</th>\n",
       "      <th>Avaliacao Reclamacao2</th>\n",
       "    </tr>\n",
       "  </thead>\n",
       "  <tbody>\n",
       "    <tr>\n",
       "      <th>0</th>\n",
       "      <td>0</td>\n",
       "      <td>SE</td>\n",
       "      <td>SP</td>\n",
       "      <td>São Paulo</td>\n",
       "      <td>M</td>\n",
       "      <td>entre 31 a 40 anos</td>\n",
       "      <td>31/01/2019</td>\n",
       "      <td>2.0</td>\n",
       "      <td>Samsung</td>\n",
       "      <td>Fabricantes - Eletroeletrônicos,  Produtos de ...</td>\n",
       "      <td>...</td>\n",
       "      <td>Finalizada avaliada</td>\n",
       "      <td>Não Resolvida</td>\n",
       "      <td>1.0</td>\n",
       "      <td>1</td>\n",
       "      <td>NaN</td>\n",
       "      <td>NaN</td>\n",
       "      <td>NaN</td>\n",
       "      <td>NaN</td>\n",
       "      <td>NaN</td>\n",
       "      <td>NaN</td>\n",
       "    </tr>\n",
       "    <tr>\n",
       "      <th>1</th>\n",
       "      <td>1</td>\n",
       "      <td>SE</td>\n",
       "      <td>SP</td>\n",
       "      <td>Pindamonhangaba</td>\n",
       "      <td>M</td>\n",
       "      <td>entre 51 a 60 anos</td>\n",
       "      <td>26/01/2019</td>\n",
       "      <td>1.0</td>\n",
       "      <td>NET</td>\n",
       "      <td>Operadoras de Telecomunicações (Telefonia, Int...</td>\n",
       "      <td>...</td>\n",
       "      <td>Finalizada avaliada</td>\n",
       "      <td>Resolvida</td>\n",
       "      <td>5.0</td>\n",
       "      <td>1</td>\n",
       "      <td>NaN</td>\n",
       "      <td>NaN</td>\n",
       "      <td>NaN</td>\n",
       "      <td>NaN</td>\n",
       "      <td>NaN</td>\n",
       "      <td>NaN</td>\n",
       "    </tr>\n",
       "    <tr>\n",
       "      <th>2</th>\n",
       "      <td>2</td>\n",
       "      <td>SE</td>\n",
       "      <td>SP</td>\n",
       "      <td>São Paulo</td>\n",
       "      <td>M</td>\n",
       "      <td>entre 31 a 40 anos</td>\n",
       "      <td>29/01/2019</td>\n",
       "      <td>5.0</td>\n",
       "      <td>Oi Celular</td>\n",
       "      <td>Operadoras de Telecomunicações (Telefonia, Int...</td>\n",
       "      <td>...</td>\n",
       "      <td>Finalizada avaliada</td>\n",
       "      <td>Resolvida</td>\n",
       "      <td>5.0</td>\n",
       "      <td>1</td>\n",
       "      <td>NaN</td>\n",
       "      <td>NaN</td>\n",
       "      <td>NaN</td>\n",
       "      <td>NaN</td>\n",
       "      <td>NaN</td>\n",
       "      <td>NaN</td>\n",
       "    </tr>\n",
       "    <tr>\n",
       "      <th>3</th>\n",
       "      <td>3</td>\n",
       "      <td>SE</td>\n",
       "      <td>RJ</td>\n",
       "      <td>Queimados</td>\n",
       "      <td>F</td>\n",
       "      <td>entre 31 a 40 anos</td>\n",
       "      <td>31/01/2019</td>\n",
       "      <td>4.0</td>\n",
       "      <td>Oi Fixo</td>\n",
       "      <td>Operadoras de Telecomunicações (Telefonia, Int...</td>\n",
       "      <td>...</td>\n",
       "      <td>Finalizada avaliada</td>\n",
       "      <td>Resolvida</td>\n",
       "      <td>5.0</td>\n",
       "      <td>1</td>\n",
       "      <td>NaN</td>\n",
       "      <td>NaN</td>\n",
       "      <td>NaN</td>\n",
       "      <td>NaN</td>\n",
       "      <td>NaN</td>\n",
       "      <td>NaN</td>\n",
       "    </tr>\n",
       "    <tr>\n",
       "      <th>4</th>\n",
       "      <td>4</td>\n",
       "      <td>NE</td>\n",
       "      <td>PI</td>\n",
       "      <td>Parnaíba</td>\n",
       "      <td>M</td>\n",
       "      <td>entre 21 a 30 anos</td>\n",
       "      <td>24/01/2019</td>\n",
       "      <td>2.0</td>\n",
       "      <td>Oi Fixo</td>\n",
       "      <td>Operadoras de Telecomunicações (Telefonia, Int...</td>\n",
       "      <td>...</td>\n",
       "      <td>Finalizada avaliada</td>\n",
       "      <td>Resolvida</td>\n",
       "      <td>5.0</td>\n",
       "      <td>1</td>\n",
       "      <td>NaN</td>\n",
       "      <td>NaN</td>\n",
       "      <td>NaN</td>\n",
       "      <td>NaN</td>\n",
       "      <td>NaN</td>\n",
       "      <td>NaN</td>\n",
       "    </tr>\n",
       "  </tbody>\n",
       "</table>\n",
       "<p>5 rows × 27 columns</p>\n",
       "</div>"
      ],
      "text/plain": [
       "   Unnamed: 0 Regiao  UF           Cidade Sexo        Faixa Etaria  \\\n",
       "0           0     SE  SP        São Paulo    M  entre 31 a 40 anos   \n",
       "1           1     SE  SP  Pindamonhangaba    M  entre 51 a 60 anos   \n",
       "2           2     SE  SP        São Paulo    M  entre 31 a 40 anos   \n",
       "3           3     SE  RJ        Queimados    F  entre 31 a 40 anos   \n",
       "4           4     NE  PI         Parnaíba    M  entre 21 a 30 anos   \n",
       "\n",
       "  Data Finalizacao  Tempo Resposta Nome Fantasia  \\\n",
       "0       31/01/2019             2.0       Samsung   \n",
       "1       26/01/2019             1.0           NET   \n",
       "2       29/01/2019             5.0    Oi Celular   \n",
       "3       31/01/2019             4.0       Oi Fixo   \n",
       "4       24/01/2019             2.0       Oi Fixo   \n",
       "\n",
       "                                 Segmento de Mercado  ...  \\\n",
       "0  Fabricantes - Eletroeletrônicos,  Produtos de ...  ...   \n",
       "1  Operadoras de Telecomunicações (Telefonia, Int...  ...   \n",
       "2  Operadoras de Telecomunicações (Telefonia, Int...  ...   \n",
       "3  Operadoras de Telecomunicações (Telefonia, Int...  ...   \n",
       "4  Operadoras de Telecomunicações (Telefonia, Int...  ...   \n",
       "\n",
       "              Situacao Avaliacao Reclamacao Nota do Consumidor Total Regiao  \\\n",
       "0  Finalizada avaliada        Não Resolvida                1.0     1    NaN   \n",
       "1  Finalizada avaliada            Resolvida                5.0     1    NaN   \n",
       "2  Finalizada avaliada            Resolvida                5.0     1    NaN   \n",
       "3  Finalizada avaliada            Resolvida                5.0     1    NaN   \n",
       "4  Finalizada avaliada            Resolvida                5.0     1    NaN   \n",
       "\n",
       "  Faixa Etaria2 Data Finalizacao Area Situacao2  Avaliacao Reclamacao2  \n",
       "0           NaN              NaN  NaN       NaN                    NaN  \n",
       "1           NaN              NaN  NaN       NaN                    NaN  \n",
       "2           NaN              NaN  NaN       NaN                    NaN  \n",
       "3           NaN              NaN  NaN       NaN                    NaN  \n",
       "4           NaN              NaN  NaN       NaN                    NaN  \n",
       "\n",
       "[5 rows x 27 columns]"
      ]
     },
     "execution_count": 6,
     "metadata": {},
     "output_type": "execute_result"
    }
   ],
   "source": [
    "data.head()"
   ]
  },
  {
   "cell_type": "code",
   "execution_count": 7,
   "metadata": {},
   "outputs": [],
   "source": [
    "chosenColumns = ['Sexo', 'Faixa Etaria', 'Nome Fantasia','Tempo Resposta', 'Como Comprou Contratou','Procurou Empresa','Situacao','Nota do Consumidor','Avaliacao Reclamacao']"
   ]
  },
  {
   "cell_type": "code",
   "execution_count": 8,
   "metadata": {},
   "outputs": [],
   "source": [
    "df= data[chosenColumns]"
   ]
  },
  {
   "cell_type": "code",
   "execution_count": 9,
   "metadata": {},
   "outputs": [
    {
     "data": {
      "text/html": [
       "<div>\n",
       "<style scoped>\n",
       "    .dataframe tbody tr th:only-of-type {\n",
       "        vertical-align: middle;\n",
       "    }\n",
       "\n",
       "    .dataframe tbody tr th {\n",
       "        vertical-align: top;\n",
       "    }\n",
       "\n",
       "    .dataframe thead th {\n",
       "        text-align: right;\n",
       "    }\n",
       "</style>\n",
       "<table border=\"1\" class=\"dataframe\">\n",
       "  <thead>\n",
       "    <tr style=\"text-align: right;\">\n",
       "      <th></th>\n",
       "      <th>Sexo</th>\n",
       "      <th>Faixa Etaria</th>\n",
       "      <th>Nome Fantasia</th>\n",
       "      <th>Tempo Resposta</th>\n",
       "      <th>Como Comprou Contratou</th>\n",
       "      <th>Procurou Empresa</th>\n",
       "      <th>Situacao</th>\n",
       "      <th>Nota do Consumidor</th>\n",
       "      <th>Avaliacao Reclamacao</th>\n",
       "    </tr>\n",
       "  </thead>\n",
       "  <tbody>\n",
       "    <tr>\n",
       "      <th>0</th>\n",
       "      <td>M</td>\n",
       "      <td>entre 31 a 40 anos</td>\n",
       "      <td>Samsung</td>\n",
       "      <td>2.0</td>\n",
       "      <td>Internet</td>\n",
       "      <td>N</td>\n",
       "      <td>Finalizada avaliada</td>\n",
       "      <td>1.0</td>\n",
       "      <td>Não Resolvida</td>\n",
       "    </tr>\n",
       "    <tr>\n",
       "      <th>1</th>\n",
       "      <td>M</td>\n",
       "      <td>entre 51 a 60 anos</td>\n",
       "      <td>NET</td>\n",
       "      <td>1.0</td>\n",
       "      <td>Internet</td>\n",
       "      <td>S</td>\n",
       "      <td>Finalizada avaliada</td>\n",
       "      <td>5.0</td>\n",
       "      <td>Resolvida</td>\n",
       "    </tr>\n",
       "    <tr>\n",
       "      <th>2</th>\n",
       "      <td>M</td>\n",
       "      <td>entre 31 a 40 anos</td>\n",
       "      <td>Oi Celular</td>\n",
       "      <td>5.0</td>\n",
       "      <td>Telefone</td>\n",
       "      <td>S</td>\n",
       "      <td>Finalizada avaliada</td>\n",
       "      <td>5.0</td>\n",
       "      <td>Resolvida</td>\n",
       "    </tr>\n",
       "    <tr>\n",
       "      <th>3</th>\n",
       "      <td>F</td>\n",
       "      <td>entre 31 a 40 anos</td>\n",
       "      <td>Oi Fixo</td>\n",
       "      <td>4.0</td>\n",
       "      <td>Loja física</td>\n",
       "      <td>N</td>\n",
       "      <td>Finalizada avaliada</td>\n",
       "      <td>5.0</td>\n",
       "      <td>Resolvida</td>\n",
       "    </tr>\n",
       "    <tr>\n",
       "      <th>4</th>\n",
       "      <td>M</td>\n",
       "      <td>entre 21 a 30 anos</td>\n",
       "      <td>Oi Fixo</td>\n",
       "      <td>2.0</td>\n",
       "      <td>Domicílio</td>\n",
       "      <td>N</td>\n",
       "      <td>Finalizada avaliada</td>\n",
       "      <td>5.0</td>\n",
       "      <td>Resolvida</td>\n",
       "    </tr>\n",
       "  </tbody>\n",
       "</table>\n",
       "</div>"
      ],
      "text/plain": [
       "  Sexo        Faixa Etaria Nome Fantasia  Tempo Resposta  \\\n",
       "0    M  entre 31 a 40 anos       Samsung             2.0   \n",
       "1    M  entre 51 a 60 anos           NET             1.0   \n",
       "2    M  entre 31 a 40 anos    Oi Celular             5.0   \n",
       "3    F  entre 31 a 40 anos       Oi Fixo             4.0   \n",
       "4    M  entre 21 a 30 anos       Oi Fixo             2.0   \n",
       "\n",
       "  Como Comprou Contratou Procurou Empresa             Situacao  \\\n",
       "0               Internet                N  Finalizada avaliada   \n",
       "1               Internet                S  Finalizada avaliada   \n",
       "2               Telefone                S  Finalizada avaliada   \n",
       "3            Loja física                N  Finalizada avaliada   \n",
       "4              Domicílio                N  Finalizada avaliada   \n",
       "\n",
       "   Nota do Consumidor Avaliacao Reclamacao  \n",
       "0                 1.0        Não Resolvida  \n",
       "1                 5.0            Resolvida  \n",
       "2                 5.0            Resolvida  \n",
       "3                 5.0            Resolvida  \n",
       "4                 5.0            Resolvida  "
      ]
     },
     "execution_count": 9,
     "metadata": {},
     "output_type": "execute_result"
    }
   ],
   "source": [
    "df.head()"
   ]
  },
  {
   "cell_type": "code",
   "execution_count": 10,
   "metadata": {},
   "outputs": [
    {
     "data": {
      "text/plain": [
       "(182877, 9)"
      ]
     },
     "execution_count": 10,
     "metadata": {},
     "output_type": "execute_result"
    }
   ],
   "source": [
    "df.shape"
   ]
  },
  {
   "cell_type": "markdown",
   "metadata": {},
   "source": [
    "Dataset possui 182.877 reclamações e 9 colunas"
   ]
  },
  {
   "cell_type": "markdown",
   "metadata": {},
   "source": [
    "Variáveis que contém valores nulos"
   ]
  },
  {
   "cell_type": "code",
   "execution_count": 11,
   "metadata": {},
   "outputs": [],
   "source": [
    "cols_na = [var for var in df.columns if df[var].isnull().sum()>0]"
   ]
  },
  {
   "cell_type": "code",
   "execution_count": 12,
   "metadata": {},
   "outputs": [
    {
     "data": {
      "text/plain": [
       "['Tempo Resposta', 'Nota do Consumidor']"
      ]
     },
     "execution_count": 12,
     "metadata": {},
     "output_type": "execute_result"
    }
   ],
   "source": [
    "cols_na"
   ]
  },
  {
   "cell_type": "code",
   "execution_count": 13,
   "metadata": {},
   "outputs": [
    {
     "data": {
      "text/html": [
       "<div>\n",
       "<style scoped>\n",
       "    .dataframe tbody tr th:only-of-type {\n",
       "        vertical-align: middle;\n",
       "    }\n",
       "\n",
       "    .dataframe tbody tr th {\n",
       "        vertical-align: top;\n",
       "    }\n",
       "\n",
       "    .dataframe thead th {\n",
       "        text-align: right;\n",
       "    }\n",
       "</style>\n",
       "<table border=\"1\" class=\"dataframe\">\n",
       "  <thead>\n",
       "    <tr style=\"text-align: right;\">\n",
       "      <th></th>\n",
       "      <th>Sexo</th>\n",
       "      <th>Faixa Etaria</th>\n",
       "      <th>Nome Fantasia</th>\n",
       "      <th>Tempo Resposta</th>\n",
       "      <th>Como Comprou Contratou</th>\n",
       "      <th>Procurou Empresa</th>\n",
       "      <th>Situacao</th>\n",
       "      <th>Nota do Consumidor</th>\n",
       "      <th>Avaliacao Reclamacao</th>\n",
       "    </tr>\n",
       "  </thead>\n",
       "  <tbody>\n",
       "    <tr>\n",
       "      <th>27548</th>\n",
       "      <td>F</td>\n",
       "      <td>entre 31 a 40 anos</td>\n",
       "      <td>Tim</td>\n",
       "      <td>10.0</td>\n",
       "      <td>Loja física</td>\n",
       "      <td>N</td>\n",
       "      <td>Finalizada não avaliada</td>\n",
       "      <td>NaN</td>\n",
       "      <td>Não Avaliada</td>\n",
       "    </tr>\n",
       "    <tr>\n",
       "      <th>27667</th>\n",
       "      <td>M</td>\n",
       "      <td>entre 31 a 40 anos</td>\n",
       "      <td>Oi Fixo</td>\n",
       "      <td>6.0</td>\n",
       "      <td>Telefone</td>\n",
       "      <td>N</td>\n",
       "      <td>Finalizada não avaliada</td>\n",
       "      <td>NaN</td>\n",
       "      <td>Não Avaliada</td>\n",
       "    </tr>\n",
       "    <tr>\n",
       "      <th>27729</th>\n",
       "      <td>M</td>\n",
       "      <td>entre 31 a 40 anos</td>\n",
       "      <td>Tim</td>\n",
       "      <td>10.0</td>\n",
       "      <td>Telefone</td>\n",
       "      <td>S</td>\n",
       "      <td>Finalizada não avaliada</td>\n",
       "      <td>NaN</td>\n",
       "      <td>Não Avaliada</td>\n",
       "    </tr>\n",
       "    <tr>\n",
       "      <th>27731</th>\n",
       "      <td>M</td>\n",
       "      <td>entre 61 a 70 anos</td>\n",
       "      <td>Claro Celular</td>\n",
       "      <td>10.0</td>\n",
       "      <td>Loja física</td>\n",
       "      <td>S</td>\n",
       "      <td>Finalizada não avaliada</td>\n",
       "      <td>NaN</td>\n",
       "      <td>Não Avaliada</td>\n",
       "    </tr>\n",
       "    <tr>\n",
       "      <th>27732</th>\n",
       "      <td>F</td>\n",
       "      <td>entre 31 a 40 anos</td>\n",
       "      <td>Casas Bahia</td>\n",
       "      <td>10.0</td>\n",
       "      <td>Loja física</td>\n",
       "      <td>S</td>\n",
       "      <td>Finalizada não avaliada</td>\n",
       "      <td>NaN</td>\n",
       "      <td>Não Avaliada</td>\n",
       "    </tr>\n",
       "    <tr>\n",
       "      <th>...</th>\n",
       "      <td>...</td>\n",
       "      <td>...</td>\n",
       "      <td>...</td>\n",
       "      <td>...</td>\n",
       "      <td>...</td>\n",
       "      <td>...</td>\n",
       "      <td>...</td>\n",
       "      <td>...</td>\n",
       "      <td>...</td>\n",
       "    </tr>\n",
       "    <tr>\n",
       "      <th>182533</th>\n",
       "      <td>M</td>\n",
       "      <td>entre 31 a 40 anos</td>\n",
       "      <td>Tim</td>\n",
       "      <td>8.0</td>\n",
       "      <td>Internet</td>\n",
       "      <td>S</td>\n",
       "      <td>Finalizada não avaliada</td>\n",
       "      <td>NaN</td>\n",
       "      <td>Não Avaliada</td>\n",
       "    </tr>\n",
       "    <tr>\n",
       "      <th>182595</th>\n",
       "      <td>F</td>\n",
       "      <td>entre 41 a 50 anos</td>\n",
       "      <td>Claro Celular</td>\n",
       "      <td>9.0</td>\n",
       "      <td>Loja física</td>\n",
       "      <td>S</td>\n",
       "      <td>Finalizada não avaliada</td>\n",
       "      <td>NaN</td>\n",
       "      <td>Não Avaliada</td>\n",
       "    </tr>\n",
       "    <tr>\n",
       "      <th>182681</th>\n",
       "      <td>F</td>\n",
       "      <td>entre 21 a 30 anos</td>\n",
       "      <td>Tim</td>\n",
       "      <td>8.0</td>\n",
       "      <td>Não comprei / contratei</td>\n",
       "      <td>S</td>\n",
       "      <td>Finalizada não avaliada</td>\n",
       "      <td>NaN</td>\n",
       "      <td>Não Avaliada</td>\n",
       "    </tr>\n",
       "    <tr>\n",
       "      <th>182816</th>\n",
       "      <td>M</td>\n",
       "      <td>entre 31 a 40 anos</td>\n",
       "      <td>Claro Celular</td>\n",
       "      <td>8.0</td>\n",
       "      <td>Loja física</td>\n",
       "      <td>S</td>\n",
       "      <td>Finalizada não avaliada</td>\n",
       "      <td>NaN</td>\n",
       "      <td>Não Avaliada</td>\n",
       "    </tr>\n",
       "    <tr>\n",
       "      <th>182876</th>\n",
       "      <td>F</td>\n",
       "      <td>entre 21 a 30 anos</td>\n",
       "      <td>Tim</td>\n",
       "      <td>2.0</td>\n",
       "      <td>Loja física</td>\n",
       "      <td>N</td>\n",
       "      <td>Finalizada não avaliada</td>\n",
       "      <td>NaN</td>\n",
       "      <td>Não Avaliada</td>\n",
       "    </tr>\n",
       "  </tbody>\n",
       "</table>\n",
       "<p>56576 rows × 9 columns</p>\n",
       "</div>"
      ],
      "text/plain": [
       "       Sexo        Faixa Etaria  Nome Fantasia  Tempo Resposta  \\\n",
       "27548     F  entre 31 a 40 anos            Tim            10.0   \n",
       "27667     M  entre 31 a 40 anos        Oi Fixo             6.0   \n",
       "27729     M  entre 31 a 40 anos            Tim            10.0   \n",
       "27731     M  entre 61 a 70 anos  Claro Celular            10.0   \n",
       "27732     F  entre 31 a 40 anos    Casas Bahia            10.0   \n",
       "...     ...                 ...            ...             ...   \n",
       "182533    M  entre 31 a 40 anos            Tim             8.0   \n",
       "182595    F  entre 41 a 50 anos  Claro Celular             9.0   \n",
       "182681    F  entre 21 a 30 anos            Tim             8.0   \n",
       "182816    M  entre 31 a 40 anos  Claro Celular             8.0   \n",
       "182876    F  entre 21 a 30 anos            Tim             2.0   \n",
       "\n",
       "         Como Comprou Contratou Procurou Empresa                 Situacao  \\\n",
       "27548               Loja física                N  Finalizada não avaliada   \n",
       "27667                  Telefone                N  Finalizada não avaliada   \n",
       "27729                  Telefone                S  Finalizada não avaliada   \n",
       "27731               Loja física                S  Finalizada não avaliada   \n",
       "27732               Loja física                S  Finalizada não avaliada   \n",
       "...                         ...              ...                      ...   \n",
       "182533                 Internet                S  Finalizada não avaliada   \n",
       "182595              Loja física                S  Finalizada não avaliada   \n",
       "182681  Não comprei / contratei                S  Finalizada não avaliada   \n",
       "182816              Loja física                S  Finalizada não avaliada   \n",
       "182876              Loja física                N  Finalizada não avaliada   \n",
       "\n",
       "        Nota do Consumidor Avaliacao Reclamacao  \n",
       "27548                  NaN         Não Avaliada  \n",
       "27667                  NaN         Não Avaliada  \n",
       "27729                  NaN         Não Avaliada  \n",
       "27731                  NaN         Não Avaliada  \n",
       "27732                  NaN         Não Avaliada  \n",
       "...                    ...                  ...  \n",
       "182533                 NaN         Não Avaliada  \n",
       "182595                 NaN         Não Avaliada  \n",
       "182681                 NaN         Não Avaliada  \n",
       "182816                 NaN         Não Avaliada  \n",
       "182876                 NaN         Não Avaliada  \n",
       "\n",
       "[56576 rows x 9 columns]"
      ]
     },
     "execution_count": 13,
     "metadata": {},
     "output_type": "execute_result"
    }
   ],
   "source": [
    "df[df['Nota do Consumidor'].isnull()]"
   ]
  },
  {
   "cell_type": "code",
   "execution_count": 14,
   "metadata": {},
   "outputs": [
    {
     "data": {
      "text/plain": [
       "(126115, 9)"
      ]
     },
     "execution_count": 14,
     "metadata": {},
     "output_type": "execute_result"
    }
   ],
   "source": [
    "df.dropna().shape"
   ]
  },
  {
   "cell_type": "code",
   "execution_count": 15,
   "metadata": {},
   "outputs": [
    {
     "name": "stderr",
     "output_type": "stream",
     "text": [
      "C:\\ProgramData\\Anaconda3\\lib\\site-packages\\ipykernel_launcher.py:1: SettingWithCopyWarning: \n",
      "A value is trying to be set on a copy of a slice from a DataFrame\n",
      "\n",
      "See the caveats in the documentation: https://pandas.pydata.org/pandas-docs/stable/user_guide/indexing.html#returning-a-view-versus-a-copy\n",
      "  \"\"\"Entry point for launching an IPython kernel.\n"
     ]
    }
   ],
   "source": [
    "df.dropna(inplace=True)"
   ]
  },
  {
   "cell_type": "code",
   "execution_count": 16,
   "metadata": {},
   "outputs": [
    {
     "data": {
      "text/plain": [
       "0.0"
      ]
     },
     "execution_count": 16,
     "metadata": {},
     "output_type": "execute_result"
    }
   ],
   "source": [
    "df['Tempo Resposta'].min()"
   ]
  },
  {
   "cell_type": "code",
   "execution_count": 17,
   "metadata": {},
   "outputs": [
    {
     "data": {
      "text/plain": [
       "15.0"
      ]
     },
     "execution_count": 17,
     "metadata": {},
     "output_type": "execute_result"
    }
   ],
   "source": [
    "df['Tempo Resposta'].max()"
   ]
  },
  {
   "cell_type": "code",
   "execution_count": 18,
   "metadata": {},
   "outputs": [
    {
     "data": {
      "text/plain": [
       "10.0    28688\n",
       "9.0     21023\n",
       "8.0     20439\n",
       "7.0     14430\n",
       "6.0      9392\n",
       "5.0      7110\n",
       "4.0      5727\n",
       "3.0      5629\n",
       "2.0      5170\n",
       "1.0      4655\n",
       "0.0      2043\n",
       "15.0      681\n",
       "11.0      390\n",
       "14.0      303\n",
       "13.0      221\n",
       "12.0      214\n",
       "Name: Tempo Resposta, dtype: int64"
      ]
     },
     "execution_count": 18,
     "metadata": {},
     "output_type": "execute_result"
    }
   ],
   "source": [
    "df['Tempo Resposta'].value_counts()"
   ]
  },
  {
   "cell_type": "code",
   "execution_count": 19,
   "metadata": {},
   "outputs": [],
   "source": [
    "from sklearn.tree import DecisionTreeClassifier\n",
    "from sklearn.ensemble import GradientBoostingClassifier\n",
    "from sklearn.ensemble import RandomForestClassifier\n",
    "from sklearn.model_selection import train_test_split\n",
    "import matplotlib.pyplot as plt\n",
    "from sklearn.metrics import roc_curve, auc, classification_report, confusion_matrix, plot_confusion_matrix, multilabel_confusion_matrix\n",
    "from sklearn.svm import SVC\n",
    "from sklearn.datasets import make_classification\n",
    "%matplotlib inline"
   ]
  },
  {
   "cell_type": "code",
   "execution_count": 20,
   "metadata": {},
   "outputs": [],
   "source": [
    "df = pd.get_dummies(df, columns=['Sexo', 'Faixa Etaria', 'Nome Fantasia', 'Tempo Resposta',\n",
    "       'Como Comprou Contratou', 'Procurou Empresa', 'Situacao', 'Avaliacao Reclamacao'],drop_first=True)"
   ]
  },
  {
   "cell_type": "code",
   "execution_count": 21,
   "metadata": {},
   "outputs": [],
   "source": [
    "X = df.drop('Nota do Consumidor',axis=1)\n",
    "Y = df['Nota do Consumidor']"
   ]
  },
  {
   "cell_type": "code",
   "execution_count": 22,
   "metadata": {},
   "outputs": [
    {
     "data": {
      "text/plain": [
       "(126115, 122)"
      ]
     },
     "execution_count": 22,
     "metadata": {},
     "output_type": "execute_result"
    }
   ],
   "source": [
    "X.shape"
   ]
  },
  {
   "cell_type": "code",
   "execution_count": 23,
   "metadata": {},
   "outputs": [],
   "source": [
    "xTrain, xTest, yTrain, yTest = train_test_split(X, Y, train_size=0.7, random_state=3)\n",
    "testSize = yTest.shape[0]"
   ]
  },
  {
   "cell_type": "code",
   "execution_count": 24,
   "metadata": {},
   "outputs": [
    {
     "data": {
      "text/plain": [
       "0.07983688264612596"
      ]
     },
     "execution_count": 24,
     "metadata": {},
     "output_type": "execute_result"
    }
   ],
   "source": [
    "yTrain[yTrain == 0].shape[0] / yTrain.shape[0]"
   ]
  },
  {
   "cell_type": "code",
   "execution_count": 25,
   "metadata": {},
   "outputs": [
    {
     "data": {
      "text/plain": [
       "0.16082917988219303"
      ]
     },
     "execution_count": 25,
     "metadata": {},
     "output_type": "execute_result"
    }
   ],
   "source": [
    "yTrain[yTrain == 1].shape[0] / yTrain.shape[0]"
   ]
  },
  {
   "cell_type": "code",
   "execution_count": 26,
   "metadata": {},
   "outputs": [
    {
     "data": {
      "text/plain": [
       "0.03351835070231083"
      ]
     },
     "execution_count": 26,
     "metadata": {},
     "output_type": "execute_result"
    }
   ],
   "source": [
    "yTrain[yTrain == 2].shape[0] / yTrain.shape[0]"
   ]
  },
  {
   "cell_type": "code",
   "execution_count": 27,
   "metadata": {},
   "outputs": [
    {
     "data": {
      "text/plain": [
       "0.0905980969642048"
      ]
     },
     "execution_count": 27,
     "metadata": {},
     "output_type": "execute_result"
    }
   ],
   "source": [
    "yTrain[yTrain == 3].shape[0] / yTrain.shape[0]"
   ]
  },
  {
   "cell_type": "code",
   "execution_count": 28,
   "metadata": {},
   "outputs": [
    {
     "data": {
      "text/plain": [
       "0.13337109198006344"
      ]
     },
     "execution_count": 28,
     "metadata": {},
     "output_type": "execute_result"
    }
   ],
   "source": [
    "yTrain[yTrain == 4].shape[0] / yTrain.shape[0]"
   ]
  },
  {
   "cell_type": "code",
   "execution_count": 29,
   "metadata": {},
   "outputs": [
    {
     "data": {
      "text/plain": [
       "0.501846397825102"
      ]
     },
     "execution_count": 29,
     "metadata": {},
     "output_type": "execute_result"
    }
   ],
   "source": [
    "yTrain[yTrain == 5].shape[0] / yTrain.shape[0]"
   ]
  },
  {
   "cell_type": "code",
   "execution_count": 30,
   "metadata": {},
   "outputs": [],
   "source": [
    "#Decision Tree\n",
    "\n",
    "\n",
    "\n",
    "dt = DecisionTreeClassifier(max_depth=100)\n",
    "dt.fit(xTrain, yTrain.ravel())\n",
    "yPredDT = dt.predict(xTest) # predicting test data\n",
    "yPredDTroc = dt.predict_proba(xTest)[:,1]\n"
   ]
  },
  {
   "cell_type": "code",
   "execution_count": 31,
   "metadata": {},
   "outputs": [
    {
     "data": {
      "text/plain": [
       "12750"
      ]
     },
     "execution_count": 31,
     "metadata": {},
     "output_type": "execute_result"
    }
   ],
   "source": [
    "sum([yPredDT != yTest]).sum()"
   ]
  },
  {
   "cell_type": "code",
   "execution_count": 32,
   "metadata": {},
   "outputs": [],
   "source": [
    "\n",
    "# computing error\n",
    "\n",
    "errorDT = sum([yPredDT != yTest]).sum()\n",
    "errorDTPCT = int(100*errorDT/testSize)\n",
    "hitRateDTPCT = 100 - errorDTPCT\n",
    "\n"
   ]
  },
  {
   "cell_type": "code",
   "execution_count": 33,
   "metadata": {},
   "outputs": [
    {
     "data": {
      "text/plain": [
       "33"
      ]
     },
     "execution_count": 33,
     "metadata": {},
     "output_type": "execute_result"
    }
   ],
   "source": [
    "errorDTPCT"
   ]
  },
  {
   "cell_type": "code",
   "execution_count": 34,
   "metadata": {},
   "outputs": [
    {
     "name": "stdout",
     "output_type": "stream",
     "text": [
      "              precision    recall  f1-score   support\n",
      "\n",
      "         0.0       1.00      1.00      1.00      3016\n",
      "         1.0       0.76      0.78      0.77      6113\n",
      "         2.0       0.06      0.02      0.03      1219\n",
      "         3.0       0.12      0.03      0.05      3519\n",
      "         4.0       0.19      0.05      0.08      5050\n",
      "         5.0       0.66      0.89      0.76     18918\n",
      "\n",
      "    accuracy                           0.66     37835\n",
      "   macro avg       0.46      0.46      0.45     37835\n",
      "weighted avg       0.57      0.66      0.60     37835\n",
      "\n"
     ]
    }
   ],
   "source": [
    "#Which features are more important to predict 'Nota do Consumidor'\n",
    "\n",
    "print(classification_report(yTest, yPredDT))\n"
   ]
  },
  {
   "cell_type": "code",
   "execution_count": 52,
   "metadata": {
    "scrolled": true
   },
   "outputs": [
    {
     "data": {
      "text/html": [
       "<div>\n",
       "<style scoped>\n",
       "    .dataframe tbody tr th:only-of-type {\n",
       "        vertical-align: middle;\n",
       "    }\n",
       "\n",
       "    .dataframe tbody tr th {\n",
       "        vertical-align: top;\n",
       "    }\n",
       "\n",
       "    .dataframe thead th {\n",
       "        text-align: right;\n",
       "    }\n",
       "</style>\n",
       "<table border=\"1\" class=\"dataframe\">\n",
       "  <thead>\n",
       "    <tr style=\"text-align: right;\">\n",
       "      <th></th>\n",
       "      <th>0</th>\n",
       "      <th>1</th>\n",
       "      <th>2</th>\n",
       "      <th>3</th>\n",
       "      <th>4</th>\n",
       "      <th>5</th>\n",
       "    </tr>\n",
       "  </thead>\n",
       "  <tbody>\n",
       "    <tr>\n",
       "      <th>0</th>\n",
       "      <td>0.0797</td>\n",
       "      <td>0.0000</td>\n",
       "      <td>0.0000</td>\n",
       "      <td>0.0000</td>\n",
       "      <td>0.0000</td>\n",
       "      <td>0.0000</td>\n",
       "    </tr>\n",
       "    <tr>\n",
       "      <th>1</th>\n",
       "      <td>0.0000</td>\n",
       "      <td>0.1254</td>\n",
       "      <td>0.0039</td>\n",
       "      <td>0.0041</td>\n",
       "      <td>0.0024</td>\n",
       "      <td>0.0257</td>\n",
       "    </tr>\n",
       "    <tr>\n",
       "      <th>2</th>\n",
       "      <td>0.0000</td>\n",
       "      <td>0.0118</td>\n",
       "      <td>0.0006</td>\n",
       "      <td>0.0011</td>\n",
       "      <td>0.0012</td>\n",
       "      <td>0.0175</td>\n",
       "    </tr>\n",
       "    <tr>\n",
       "      <th>3</th>\n",
       "      <td>0.0000</td>\n",
       "      <td>0.0120</td>\n",
       "      <td>0.0014</td>\n",
       "      <td>0.0031</td>\n",
       "      <td>0.0047</td>\n",
       "      <td>0.0718</td>\n",
       "    </tr>\n",
       "    <tr>\n",
       "      <th>4</th>\n",
       "      <td>0.0000</td>\n",
       "      <td>0.0050</td>\n",
       "      <td>0.0012</td>\n",
       "      <td>0.0042</td>\n",
       "      <td>0.0073</td>\n",
       "      <td>0.1157</td>\n",
       "    </tr>\n",
       "    <tr>\n",
       "      <th>5</th>\n",
       "      <td>0.0000</td>\n",
       "      <td>0.0112</td>\n",
       "      <td>0.0037</td>\n",
       "      <td>0.0145</td>\n",
       "      <td>0.0237</td>\n",
       "      <td>0.4469</td>\n",
       "    </tr>\n",
       "  </tbody>\n",
       "</table>\n",
       "</div>"
      ],
      "text/plain": [
       "        0       1       2       3       4       5\n",
       "0  0.0797  0.0000  0.0000  0.0000  0.0000  0.0000\n",
       "1  0.0000  0.1254  0.0039  0.0041  0.0024  0.0257\n",
       "2  0.0000  0.0118  0.0006  0.0011  0.0012  0.0175\n",
       "3  0.0000  0.0120  0.0014  0.0031  0.0047  0.0718\n",
       "4  0.0000  0.0050  0.0012  0.0042  0.0073  0.1157\n",
       "5  0.0000  0.0112  0.0037  0.0145  0.0237  0.4469"
      ]
     },
     "execution_count": 52,
     "metadata": {},
     "output_type": "execute_result"
    }
   ],
   "source": [
    "pd.DataFrame(np.round(confusion_matrix(yTest, yPredDT)/yTest.shape[0],4))"
   ]
  },
  {
   "cell_type": "code",
   "execution_count": 56,
   "metadata": {},
   "outputs": [
    {
     "data": {
      "text/plain": [
       "array([[ 3016,     0,     0,     0,     0,     0],\n",
       "       [    0,  4744,   148,   157,    90,   974],\n",
       "       [    0,   447,    23,    41,    45,   663],\n",
       "       [    0,   453,    53,   118,   179,  2716],\n",
       "       [    0,   191,    45,   160,   276,  4378],\n",
       "       [    0,   425,   140,   547,   898, 16908]], dtype=int64)"
      ]
     },
     "execution_count": 56,
     "metadata": {},
     "output_type": "execute_result"
    }
   ],
   "source": [
    "confusion_matrix(yTest, yPredDT)"
   ]
  },
  {
   "cell_type": "code",
   "execution_count": 47,
   "metadata": {},
   "outputs": [
    {
     "data": {
      "text/plain": [
       "(37835,)"
      ]
     },
     "execution_count": 47,
     "metadata": {},
     "output_type": "execute_result"
    }
   ],
   "source": [
    "yTest.shape"
   ]
  },
  {
   "cell_type": "code",
   "execution_count": 65,
   "metadata": {},
   "outputs": [],
   "source": [
    "from sklearn.metrics import confusion_matrix\n",
    "import pandas as pd\n",
    "import seaborn as sn\n",
    "import matplotlib.pyplot as plt\n",
    "%matplotlib inline\n",
    "import numpy as np"
   ]
  },
  {
   "cell_type": "code",
   "execution_count": 84,
   "metadata": {},
   "outputs": [
    {
     "data": {
      "text/plain": [
       "<matplotlib.axes._subplots.AxesSubplot at 0x1518cb47c08>"
      ]
     },
     "execution_count": 84,
     "metadata": {},
     "output_type": "execute_result"
    },
    {
     "data": {
      "image/png": "[encoded data removed]",
      "text/plain": [
       "<Figure size 504x504 with 2 Axes>"
      ]
     },
     "metadata": {},
     "output_type": "display_data"
    }
   ],
   "source": [
    "y_true = [yTest]\n",
    "y_pred = [yPredDT]\n",
    "data = confusion_matrix(yTest, yPredDT)\n",
    "df_cm = pd.DataFrame(data, columns=np.unique(y_true), index = np.unique(y_true))\n",
    "df_cm.index.name = 'Actual Scores'\n",
    "df_cm.columns.name = 'Predicted Scores'\n",
    "plt.figure(figsize = (7,7))\n",
    "sn.set(font_scale=1)#for label size\n",
    "sn.heatmap(df_cm, cmap=\"Blues\", annot=True,annot_kws={\"size\": 12})# font size"
   ]
  },
  {
   "cell_type": "code",
   "execution_count": null,
   "metadata": {},
   "outputs": [],
   "source": []
  },
  {
   "cell_type": "code",
   "execution_count": 36,
   "metadata": {},
   "outputs": [],
   "source": [
    "\n",
    "\n",
    "#X, Y = make_classification(random_state=0)\n",
    "#xTrain, xTest, yTrain, yTest = train_test_split(X, Y, random_state=0)\n",
    "#clf = DecisionTreeClassifier(random_state=0)\n",
    "#clf.fit(xTrain, yTrain)\n",
    "#DecisionTreeClassifier(random_state=0)\n",
    "#plot_confusion_matrix(clf, xTest, yTest)\n",
    "#plt.show()"
   ]
  },
  {
   "cell_type": "code",
   "execution_count": null,
   "metadata": {},
   "outputs": [],
   "source": []
  },
  {
   "cell_type": "code",
   "execution_count": 72,
   "metadata": {},
   "outputs": [],
   "source": [
    "#Feature importance\n",
    "\n",
    "dt_feat_importances = pd.DataFrame(dt.feature_importances_, index = xTrain.columns, columns=[\"Importances\"]).sort_values(\n",
    "                        \"Importances\", ascending=False)\n"
   ]
  },
  {
   "cell_type": "code",
   "execution_count": null,
   "metadata": {},
   "outputs": [],
   "source": []
  },
  {
   "cell_type": "code",
   "execution_count": 73,
   "metadata": {},
   "outputs": [
    {
     "data": {
      "text/html": [
       "<div>\n",
       "<style scoped>\n",
       "    .dataframe tbody tr th:only-of-type {\n",
       "        vertical-align: middle;\n",
       "    }\n",
       "\n",
       "    .dataframe tbody tr th {\n",
       "        vertical-align: top;\n",
       "    }\n",
       "\n",
       "    .dataframe thead th {\n",
       "        text-align: right;\n",
       "    }\n",
       "</style>\n",
       "<table border=\"1\" class=\"dataframe\">\n",
       "  <thead>\n",
       "    <tr style=\"text-align: right;\">\n",
       "      <th></th>\n",
       "      <th>Importances</th>\n",
       "    </tr>\n",
       "  </thead>\n",
       "  <tbody>\n",
       "    <tr>\n",
       "      <th>Avaliacao Reclamacao_Resolvida</th>\n",
       "      <td>0.445877</td>\n",
       "    </tr>\n",
       "    <tr>\n",
       "      <th>Avaliacao Reclamacao_Não Resolvida</th>\n",
       "      <td>0.272466</td>\n",
       "    </tr>\n",
       "    <tr>\n",
       "      <th>Sexo_M</th>\n",
       "      <td>0.023536</td>\n",
       "    </tr>\n",
       "    <tr>\n",
       "      <th>Faixa Etaria_entre 21 a 30 anos</th>\n",
       "      <td>0.014551</td>\n",
       "    </tr>\n",
       "    <tr>\n",
       "      <th>Faixa Etaria_entre 31 a 40 anos</th>\n",
       "      <td>0.013495</td>\n",
       "    </tr>\n",
       "    <tr>\n",
       "      <th>...</th>\n",
       "      <td>...</td>\n",
       "    </tr>\n",
       "    <tr>\n",
       "      <th>Nome Fantasia_Epson do Brasil</th>\n",
       "      <td>0.000000</td>\n",
       "    </tr>\n",
       "    <tr>\n",
       "      <th>Nome Fantasia_Cartão Americanas.com</th>\n",
       "      <td>0.000000</td>\n",
       "    </tr>\n",
       "    <tr>\n",
       "      <th>Nome Fantasia_Cartão Shoptime</th>\n",
       "      <td>0.000000</td>\n",
       "    </tr>\n",
       "    <tr>\n",
       "      <th>Nome Fantasia_Lojas Quero-Quero</th>\n",
       "      <td>0.000000</td>\n",
       "    </tr>\n",
       "    <tr>\n",
       "      <th>Nome Fantasia_Cartão Submarino</th>\n",
       "      <td>0.000000</td>\n",
       "    </tr>\n",
       "  </tbody>\n",
       "</table>\n",
       "<p>122 rows × 1 columns</p>\n",
       "</div>"
      ],
      "text/plain": [
       "                                     Importances\n",
       "Avaliacao Reclamacao_Resolvida          0.445877\n",
       "Avaliacao Reclamacao_Não Resolvida      0.272466\n",
       "Sexo_M                                  0.023536\n",
       "Faixa Etaria_entre 21 a 30 anos         0.014551\n",
       "Faixa Etaria_entre 31 a 40 anos         0.013495\n",
       "...                                          ...\n",
       "Nome Fantasia_Epson do Brasil           0.000000\n",
       "Nome Fantasia_Cartão Americanas.com     0.000000\n",
       "Nome Fantasia_Cartão Shoptime           0.000000\n",
       "Nome Fantasia_Lojas Quero-Quero         0.000000\n",
       "Nome Fantasia_Cartão Submarino          0.000000\n",
       "\n",
       "[122 rows x 1 columns]"
      ]
     },
     "execution_count": 73,
     "metadata": {},
     "output_type": "execute_result"
    }
   ],
   "source": [
    "dt_feat_importances"
   ]
  },
  {
   "cell_type": "code",
   "execution_count": 74,
   "metadata": {},
   "outputs": [],
   "source": [
    "# Random Forest\n",
    "\n",
    "rf = RandomForestClassifier(max_depth=4, n_estimators=100,bootstrap=True)\n",
    "rf.fit(xTrain, yTrain.ravel())\n",
    "yPredRF = rf.predict(xTest) # predicting test data\n",
    "yPredRFroc = rf.predict_proba(xTest)[:,1]"
   ]
  },
  {
   "cell_type": "code",
   "execution_count": 75,
   "metadata": {},
   "outputs": [
    {
     "data": {
      "text/plain": [
       "11140"
      ]
     },
     "execution_count": 75,
     "metadata": {},
     "output_type": "execute_result"
    }
   ],
   "source": [
    "sum([yPredRF != yTest]).sum()"
   ]
  },
  {
   "cell_type": "code",
   "execution_count": 76,
   "metadata": {},
   "outputs": [],
   "source": [
    "# computing error\n",
    "\n",
    "errorRF = sum([yPredRF != yTest]).sum()\n",
    "errorRFPCT = int(100*errorRF/testSize)\n",
    "hitRateRFPCT = 100 - errorRFPCT"
   ]
  },
  {
   "cell_type": "code",
   "execution_count": 77,
   "metadata": {},
   "outputs": [
    {
     "data": {
      "text/plain": [
       "29"
      ]
     },
     "execution_count": 77,
     "metadata": {},
     "output_type": "execute_result"
    }
   ],
   "source": [
    "errorRFPCT"
   ]
  },
  {
   "cell_type": "code",
   "execution_count": 90,
   "metadata": {},
   "outputs": [
    {
     "name": "stdout",
     "output_type": "stream",
     "text": [
      "----------Random Forest Classfier----------\n",
      "11140 misclassified data out of 37835\n",
      "Error PCT:  29 %\n",
      "Hit Rate:   71 %\n"
     ]
    }
   ],
   "source": [
    "#printing\n",
    "print(\"----------Random Forest Classfier----------\")\n",
    "print(int(errorRF), \"misclassified data out of\", testSize)\n",
    "print(\"Error PCT: \",errorRFPCT,'%')\n",
    "print(\"Hit Rate:  \",hitRateRFPCT,'%')"
   ]
  },
  {
   "cell_type": "code",
   "execution_count": 91,
   "metadata": {},
   "outputs": [],
   "source": [
    "dt_feat_importances = pd.DataFrame(dt.feature_importances_, index = xTrain.columns, columns=[\"Importances\"]).sort_values(\n",
    "                        \"Importances\", ascending=False)"
   ]
  },
  {
   "cell_type": "code",
   "execution_count": 92,
   "metadata": {},
   "outputs": [
    {
     "data": {
      "text/html": [
       "<div>\n",
       "<style scoped>\n",
       "    .dataframe tbody tr th:only-of-type {\n",
       "        vertical-align: middle;\n",
       "    }\n",
       "\n",
       "    .dataframe tbody tr th {\n",
       "        vertical-align: top;\n",
       "    }\n",
       "\n",
       "    .dataframe thead th {\n",
       "        text-align: right;\n",
       "    }\n",
       "</style>\n",
       "<table border=\"1\" class=\"dataframe\">\n",
       "  <thead>\n",
       "    <tr style=\"text-align: right;\">\n",
       "      <th></th>\n",
       "      <th>Importances</th>\n",
       "    </tr>\n",
       "  </thead>\n",
       "  <tbody>\n",
       "    <tr>\n",
       "      <th>Avaliacao Reclamacao_Resolvida</th>\n",
       "      <td>0.445877</td>\n",
       "    </tr>\n",
       "    <tr>\n",
       "      <th>Avaliacao Reclamacao_Não Resolvida</th>\n",
       "      <td>0.272466</td>\n",
       "    </tr>\n",
       "    <tr>\n",
       "      <th>Sexo_M</th>\n",
       "      <td>0.023536</td>\n",
       "    </tr>\n",
       "    <tr>\n",
       "      <th>Faixa Etaria_entre 21 a 30 anos</th>\n",
       "      <td>0.014551</td>\n",
       "    </tr>\n",
       "    <tr>\n",
       "      <th>Faixa Etaria_entre 31 a 40 anos</th>\n",
       "      <td>0.013495</td>\n",
       "    </tr>\n",
       "    <tr>\n",
       "      <th>...</th>\n",
       "      <td>...</td>\n",
       "    </tr>\n",
       "    <tr>\n",
       "      <th>Nome Fantasia_Epson do Brasil</th>\n",
       "      <td>0.000000</td>\n",
       "    </tr>\n",
       "    <tr>\n",
       "      <th>Nome Fantasia_Cartão Americanas.com</th>\n",
       "      <td>0.000000</td>\n",
       "    </tr>\n",
       "    <tr>\n",
       "      <th>Nome Fantasia_Cartão Shoptime</th>\n",
       "      <td>0.000000</td>\n",
       "    </tr>\n",
       "    <tr>\n",
       "      <th>Nome Fantasia_Lojas Quero-Quero</th>\n",
       "      <td>0.000000</td>\n",
       "    </tr>\n",
       "    <tr>\n",
       "      <th>Nome Fantasia_Cartão Submarino</th>\n",
       "      <td>0.000000</td>\n",
       "    </tr>\n",
       "  </tbody>\n",
       "</table>\n",
       "<p>122 rows × 1 columns</p>\n",
       "</div>"
      ],
      "text/plain": [
       "                                     Importances\n",
       "Avaliacao Reclamacao_Resolvida          0.445877\n",
       "Avaliacao Reclamacao_Não Resolvida      0.272466\n",
       "Sexo_M                                  0.023536\n",
       "Faixa Etaria_entre 21 a 30 anos         0.014551\n",
       "Faixa Etaria_entre 31 a 40 anos         0.013495\n",
       "...                                          ...\n",
       "Nome Fantasia_Epson do Brasil           0.000000\n",
       "Nome Fantasia_Cartão Americanas.com     0.000000\n",
       "Nome Fantasia_Cartão Shoptime           0.000000\n",
       "Nome Fantasia_Lojas Quero-Quero         0.000000\n",
       "Nome Fantasia_Cartão Submarino          0.000000\n",
       "\n",
       "[122 rows x 1 columns]"
      ]
     },
     "execution_count": 92,
     "metadata": {},
     "output_type": "execute_result"
    }
   ],
   "source": [
    "dt_feat_importances"
   ]
  },
  {
   "cell_type": "code",
   "execution_count": 79,
   "metadata": {},
   "outputs": [
    {
     "ename": "ValueError",
     "evalue": "multiclass format is not supported",
     "output_type": "error",
     "traceback": [
      "\u001b[1;31m---------------------------------------------------------------------------\u001b[0m",
      "\u001b[1;31mValueError\u001b[0m                                Traceback (most recent call last)",
      "\u001b[1;32m<ipython-input-79-39fca60956ba>\u001b[0m in \u001b[0;36m<module>\u001b[1;34m\u001b[0m\n\u001b[0;32m      1\u001b[0m \u001b[1;31m# Constructing the ROC curve and AUC\u001b[0m\u001b[1;33m\u001b[0m\u001b[1;33m\u001b[0m\u001b[1;33m\u001b[0m\u001b[0m\n\u001b[1;32m----> 2\u001b[1;33m \u001b[0mfpr\u001b[0m\u001b[1;33m,\u001b[0m \u001b[0mtpr\u001b[0m\u001b[1;33m,\u001b[0m \u001b[0mthresh\u001b[0m \u001b[1;33m=\u001b[0m \u001b[0mroc_curve\u001b[0m\u001b[1;33m(\u001b[0m\u001b[0myTest\u001b[0m\u001b[1;33m.\u001b[0m\u001b[0mravel\u001b[0m\u001b[1;33m(\u001b[0m\u001b[1;33m)\u001b[0m\u001b[1;33m,\u001b[0m \u001b[0myPredRFroc\u001b[0m\u001b[1;33m.\u001b[0m\u001b[0mravel\u001b[0m\u001b[1;33m(\u001b[0m\u001b[1;33m)\u001b[0m\u001b[1;33m)\u001b[0m\u001b[1;33m\u001b[0m\u001b[1;33m\u001b[0m\u001b[0m\n\u001b[0m\u001b[0;32m      3\u001b[0m \u001b[1;31m#fpr, tpr, thresh = roc_curve(yTest.ravel(), yPredRF.ravel())\u001b[0m\u001b[1;33m\u001b[0m\u001b[1;33m\u001b[0m\u001b[1;33m\u001b[0m\u001b[0m\n\u001b[0;32m      4\u001b[0m \u001b[0mrocAuc\u001b[0m \u001b[1;33m=\u001b[0m \u001b[0mauc\u001b[0m\u001b[1;33m(\u001b[0m\u001b[0mfpr\u001b[0m\u001b[1;33m,\u001b[0m \u001b[0mtpr\u001b[0m\u001b[1;33m)\u001b[0m\u001b[1;33m\u001b[0m\u001b[1;33m\u001b[0m\u001b[0m\n",
      "\u001b[1;32mC:\\ProgramData\\Anaconda3\\lib\\site-packages\\sklearn\\metrics\\_ranking.py\u001b[0m in \u001b[0;36mroc_curve\u001b[1;34m(y_true, y_score, pos_label, sample_weight, drop_intermediate)\u001b[0m\n\u001b[0;32m    769\u001b[0m     \"\"\"\n\u001b[0;32m    770\u001b[0m     fps, tps, thresholds = _binary_clf_curve(\n\u001b[1;32m--> 771\u001b[1;33m         y_true, y_score, pos_label=pos_label, sample_weight=sample_weight)\n\u001b[0m\u001b[0;32m    772\u001b[0m \u001b[1;33m\u001b[0m\u001b[0m\n\u001b[0;32m    773\u001b[0m     \u001b[1;31m# Attempt to drop thresholds corresponding to points in between and\u001b[0m\u001b[1;33m\u001b[0m\u001b[1;33m\u001b[0m\u001b[1;33m\u001b[0m\u001b[0m\n",
      "\u001b[1;32mC:\\ProgramData\\Anaconda3\\lib\\site-packages\\sklearn\\metrics\\_ranking.py\u001b[0m in \u001b[0;36m_binary_clf_curve\u001b[1;34m(y_true, y_score, pos_label, sample_weight)\u001b[0m\n\u001b[0;32m    534\u001b[0m     if not (y_type == \"binary\" or\n\u001b[0;32m    535\u001b[0m             (y_type == \"multiclass\" and pos_label is not None)):\n\u001b[1;32m--> 536\u001b[1;33m         \u001b[1;32mraise\u001b[0m \u001b[0mValueError\u001b[0m\u001b[1;33m(\u001b[0m\u001b[1;34m\"{0} format is not supported\"\u001b[0m\u001b[1;33m.\u001b[0m\u001b[0mformat\u001b[0m\u001b[1;33m(\u001b[0m\u001b[0my_type\u001b[0m\u001b[1;33m)\u001b[0m\u001b[1;33m)\u001b[0m\u001b[1;33m\u001b[0m\u001b[1;33m\u001b[0m\u001b[0m\n\u001b[0m\u001b[0;32m    537\u001b[0m \u001b[1;33m\u001b[0m\u001b[0m\n\u001b[0;32m    538\u001b[0m     \u001b[0mcheck_consistent_length\u001b[0m\u001b[1;33m(\u001b[0m\u001b[0my_true\u001b[0m\u001b[1;33m,\u001b[0m \u001b[0my_score\u001b[0m\u001b[1;33m,\u001b[0m \u001b[0msample_weight\u001b[0m\u001b[1;33m)\u001b[0m\u001b[1;33m\u001b[0m\u001b[1;33m\u001b[0m\u001b[0m\n",
      "\u001b[1;31mValueError\u001b[0m: multiclass format is not supported"
     ]
    }
   ],
   "source": [
    "# Constructing the ROC curve and AUC\n",
    "fpr, tpr, thresh = roc_curve(yTest.ravel(), yPredRFroc.ravel())\n",
    "#fpr, tpr, thresh = roc_curve(yTest.ravel(), yPredRF.ravel())\n",
    "rocAuc = auc(fpr, tpr)"
   ]
  },
  {
   "cell_type": "code",
   "execution_count": 53,
   "metadata": {},
   "outputs": [
    {
     "ename": "NameError",
     "evalue": "name 'fpr' is not defined",
     "output_type": "error",
     "traceback": [
      "\u001b[1;31m---------------------------------------------------------------------------\u001b[0m",
      "\u001b[1;31mNameError\u001b[0m                                 Traceback (most recent call last)",
      "\u001b[1;32m<ipython-input-53-0ab47ead6b0f>\u001b[0m in \u001b[0;36m<module>\u001b[1;34m\u001b[0m\n\u001b[0;32m      2\u001b[0m \u001b[0mplt\u001b[0m\u001b[1;33m.\u001b[0m\u001b[0mfigure\u001b[0m\u001b[1;33m(\u001b[0m\u001b[1;33m)\u001b[0m\u001b[1;33m\u001b[0m\u001b[1;33m\u001b[0m\u001b[0m\n\u001b[0;32m      3\u001b[0m \u001b[0mlw\u001b[0m \u001b[1;33m=\u001b[0m \u001b[1;36m2\u001b[0m\u001b[1;33m\u001b[0m\u001b[1;33m\u001b[0m\u001b[0m\n\u001b[1;32m----> 4\u001b[1;33m plt.plot(fpr, tpr, color='darkorange',\n\u001b[0m\u001b[0;32m      5\u001b[0m          lw=lw, label='ROC curve (area = %0.2f)' % rocAuc)\n\u001b[0;32m      6\u001b[0m \u001b[0mplt\u001b[0m\u001b[1;33m.\u001b[0m\u001b[0mplot\u001b[0m\u001b[1;33m(\u001b[0m\u001b[1;33m[\u001b[0m\u001b[1;36m0\u001b[0m\u001b[1;33m,\u001b[0m \u001b[1;36m1\u001b[0m\u001b[1;33m]\u001b[0m\u001b[1;33m,\u001b[0m \u001b[1;33m[\u001b[0m\u001b[1;36m0\u001b[0m\u001b[1;33m,\u001b[0m \u001b[1;36m1\u001b[0m\u001b[1;33m]\u001b[0m\u001b[1;33m,\u001b[0m \u001b[0mcolor\u001b[0m\u001b[1;33m=\u001b[0m\u001b[1;34m'navy'\u001b[0m\u001b[1;33m,\u001b[0m \u001b[0mlw\u001b[0m\u001b[1;33m=\u001b[0m\u001b[0mlw\u001b[0m\u001b[1;33m,\u001b[0m \u001b[0mlinestyle\u001b[0m\u001b[1;33m=\u001b[0m\u001b[1;34m'--'\u001b[0m\u001b[1;33m)\u001b[0m\u001b[1;33m\u001b[0m\u001b[1;33m\u001b[0m\u001b[0m\n",
      "\u001b[1;31mNameError\u001b[0m: name 'fpr' is not defined"
     ]
    },
    {
     "data": {
      "text/plain": [
       "<Figure size 432x288 with 0 Axes>"
      ]
     },
     "metadata": {},
     "output_type": "display_data"
    }
   ],
   "source": [
    "# Plotting everything\n",
    "plt.figure()\n",
    "lw = 2\n",
    "plt.plot(fpr, tpr, color='darkorange',\n",
    "         lw=lw, label='ROC curve (area = %0.2f)' % rocAuc)\n",
    "plt.plot([0, 1], [0, 1], color='navy', lw=lw, linestyle='--')\n",
    "plt.xlim([0.0, 1.0])\n",
    "plt.ylim([0.0, 1.01])\n",
    "plt.xlabel('False Positive Rate')\n",
    "plt.ylabel('True Positive Rate')\n",
    "plt.title('Receiver operating characteristic')\n",
    "plt.legend(loc=\"lower right\")\n",
    "plt.show()"
   ]
  },
  {
   "cell_type": "code",
   "execution_count": 54,
   "metadata": {},
   "outputs": [],
   "source": [
    "# Gradient Boosting\n",
    "\n",
    "gb = GradientBoostingClassifier(max_depth=4, n_estimators=100, learning_rate=0.1)\n",
    "gb.fit(xTrain, yTrain.ravel())\n",
    "yPredGB = gb.predict(xTest) # predicting test data\n",
    "yPredGBroc = gb.predict_proba(xTest)[:,1]"
   ]
  },
  {
   "cell_type": "code",
   "execution_count": null,
   "metadata": {},
   "outputs": [],
   "source": [
    "sum([yPredGB != yTest]).sum()"
   ]
  },
  {
   "cell_type": "code",
   "execution_count": null,
   "metadata": {},
   "outputs": [],
   "source": [
    "# computing error\n",
    "\n",
    "errorGB = sum([yPredGB != yTest]).sum()\n",
    "errorGBPCT = int(100*errorGB/testSize)\n",
    "hitRateGBPCT = 100 - errorGBPCT"
   ]
  },
  {
   "cell_type": "code",
   "execution_count": null,
   "metadata": {},
   "outputs": [],
   "source": [
    "errorGBPCT"
   ]
  },
  {
   "cell_type": "code",
   "execution_count": null,
   "metadata": {},
   "outputs": [],
   "source": [
    "print(\"----------Gradient Boosting Classfier----------\")\n",
    "print(int(errorGB), \"misclassified data out of\", testSize)\n",
    "print(\"Error PCT: \",errorGBPCT,'%')\n",
    "print(\"Hit Rate:  \",hitRateGBPCT,'%')"
   ]
  },
  {
   "cell_type": "code",
   "execution_count": null,
   "metadata": {},
   "outputs": [],
   "source": [
    "# Constructing the ROC curve and AUC\n",
    "fpr, tpr, thresh = roc_curve(yTest.ravel(), yPredGBroc.ravel())\n",
    "#fpr, tpr, thresh = roc_curve(yTest.ravel(), yPredGB.ravel())\n",
    "rocAuc = auc(fpr, tpr)"
   ]
  },
  {
   "cell_type": "code",
   "execution_count": null,
   "metadata": {},
   "outputs": [],
   "source": [
    "plt.figure()\n",
    "lw = 2\n",
    "plt.plot(fpr, tpr, color='darkorange',\n",
    "         lw=lw, label='ROC curve (area = %0.2f)' % rocAuc)\n",
    "plt.plot([0, 1], [0, 1], color='navy', lw=lw, linestyle='--')\n",
    "plt.xlim([0.0, 1.0])\n",
    "plt.ylim([0.0, 1.01])\n",
    "plt.xlabel('False Positive Rate')\n",
    "plt.ylabel('True Positive Rate')\n",
    "plt.title('Receiver operating characteristic')\n",
    "plt.legend(loc=\"lower right\")\n",
    "plt.show()"
   ]
  },
  {
   "cell_type": "code",
   "execution_count": null,
   "metadata": {},
   "outputs": [],
   "source": []
  }
 ],
 "metadata": {
  "kernelspec": {
   "display_name": "Python 3",
   "language": "python",
   "name": "python3"
  },
  "language_info": {
   "codemirror_mode": {
    "name": "ipython",
    "version": 3
   },
   "file_extension": ".py",
   "mimetype": "text/x-python",
   "name": "python",
   "nbconvert_exporter": "python",
   "pygments_lexer": "ipython3",
   "version": "3.7.6"
  }
 },
 "nbformat": 4,
 "nbformat_minor": 4
}
